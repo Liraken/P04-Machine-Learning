{
 "cells": [
  {
   "cell_type": "code",
   "execution_count": 1,
   "metadata": {},
   "outputs": [],
   "source": [
    "import pandas as pd\n",
    "import os\n",
    "import datetime as dt\n",
    "import numpy as np\n",
    "from pprint import pp"
   ]
  },
  {
   "cell_type": "code",
   "execution_count": 2,
   "metadata": {},
   "outputs": [
    {
     "data": {
      "text/html": [
       "<div>\n",
       "<style scoped>\n",
       "    .dataframe tbody tr th:only-of-type {\n",
       "        vertical-align: middle;\n",
       "    }\n",
       "\n",
       "    .dataframe tbody tr th {\n",
       "        vertical-align: top;\n",
       "    }\n",
       "\n",
       "    .dataframe thead th {\n",
       "        text-align: right;\n",
       "    }\n",
       "</style>\n",
       "<table border=\"1\" class=\"dataframe\">\n",
       "  <thead>\n",
       "    <tr style=\"text-align: right;\">\n",
       "      <th></th>\n",
       "      <th>BEGIN_YEARMONTH</th>\n",
       "      <th>BEGIN_DAY</th>\n",
       "      <th>BEGIN_TIME</th>\n",
       "      <th>END_YEARMONTH</th>\n",
       "      <th>END_DAY</th>\n",
       "      <th>END_TIME</th>\n",
       "      <th>EPISODE_ID</th>\n",
       "      <th>EVENT_ID</th>\n",
       "      <th>STATE</th>\n",
       "      <th>STATE_FIPS</th>\n",
       "      <th>...</th>\n",
       "      <th>END_RANGE</th>\n",
       "      <th>END_AZIMUTH</th>\n",
       "      <th>END_LOCATION</th>\n",
       "      <th>BEGIN_LAT</th>\n",
       "      <th>BEGIN_LON</th>\n",
       "      <th>END_LAT</th>\n",
       "      <th>END_LON</th>\n",
       "      <th>EPISODE_NARRATIVE</th>\n",
       "      <th>EVENT_NARRATIVE</th>\n",
       "      <th>DATA_SOURCE</th>\n",
       "    </tr>\n",
       "  </thead>\n",
       "  <tbody>\n",
       "    <tr>\n",
       "      <th>0</th>\n",
       "      <td>201402</td>\n",
       "      <td>18</td>\n",
       "      <td>1000</td>\n",
       "      <td>201402</td>\n",
       "      <td>18</td>\n",
       "      <td>2000</td>\n",
       "      <td>83473.0</td>\n",
       "      <td>503953</td>\n",
       "      <td>NEW HAMPSHIRE</td>\n",
       "      <td>33.0</td>\n",
       "      <td>...</td>\n",
       "      <td>NaN</td>\n",
       "      <td>NaN</td>\n",
       "      <td>NaN</td>\n",
       "      <td>NaN</td>\n",
       "      <td>NaN</td>\n",
       "      <td>NaN</td>\n",
       "      <td>NaN</td>\n",
       "      <td>Low pressure developing south of Long Island a...</td>\n",
       "      <td>Eight to twelve inches of snow fell across eas...</td>\n",
       "      <td>CSV</td>\n",
       "    </tr>\n",
       "    <tr>\n",
       "      <th>1</th>\n",
       "      <td>201402</td>\n",
       "      <td>5</td>\n",
       "      <td>300</td>\n",
       "      <td>201402</td>\n",
       "      <td>5</td>\n",
       "      <td>2300</td>\n",
       "      <td>83491.0</td>\n",
       "      <td>504065</td>\n",
       "      <td>NEW HAMPSHIRE</td>\n",
       "      <td>33.0</td>\n",
       "      <td>...</td>\n",
       "      <td>NaN</td>\n",
       "      <td>NaN</td>\n",
       "      <td>NaN</td>\n",
       "      <td>NaN</td>\n",
       "      <td>NaN</td>\n",
       "      <td>NaN</td>\n",
       "      <td>NaN</td>\n",
       "      <td>Low pressure moving off the mid-Atlantic coast...</td>\n",
       "      <td>Six to twelve inches of snow fell across easte...</td>\n",
       "      <td>CSV</td>\n",
       "    </tr>\n",
       "    <tr>\n",
       "      <th>2</th>\n",
       "      <td>201401</td>\n",
       "      <td>18</td>\n",
       "      <td>1000</td>\n",
       "      <td>201401</td>\n",
       "      <td>19</td>\n",
       "      <td>700</td>\n",
       "      <td>82185.0</td>\n",
       "      <td>494521</td>\n",
       "      <td>NEW HAMPSHIRE</td>\n",
       "      <td>33.0</td>\n",
       "      <td>...</td>\n",
       "      <td>NaN</td>\n",
       "      <td>NaN</td>\n",
       "      <td>NaN</td>\n",
       "      <td>NaN</td>\n",
       "      <td>NaN</td>\n",
       "      <td>NaN</td>\n",
       "      <td>NaN</td>\n",
       "      <td>Low pressure brought a brief period of heavy s...</td>\n",
       "      <td>Four to eight inches of snow fell across easte...</td>\n",
       "      <td>CSV</td>\n",
       "    </tr>\n",
       "    <tr>\n",
       "      <th>3</th>\n",
       "      <td>201411</td>\n",
       "      <td>26</td>\n",
       "      <td>1000</td>\n",
       "      <td>201411</td>\n",
       "      <td>27</td>\n",
       "      <td>1000</td>\n",
       "      <td>91728.0</td>\n",
       "      <td>549746</td>\n",
       "      <td>NEW HAMPSHIRE</td>\n",
       "      <td>33.0</td>\n",
       "      <td>...</td>\n",
       "      <td>NaN</td>\n",
       "      <td>NaN</td>\n",
       "      <td>NaN</td>\n",
       "      <td>NaN</td>\n",
       "      <td>NaN</td>\n",
       "      <td>NaN</td>\n",
       "      <td>NaN</td>\n",
       "      <td>A strong coastal storm moved up the east coast...</td>\n",
       "      <td>Six to eight inches of snow fell across easter...</td>\n",
       "      <td>CSV</td>\n",
       "    </tr>\n",
       "    <tr>\n",
       "      <th>4</th>\n",
       "      <td>201402</td>\n",
       "      <td>13</td>\n",
       "      <td>630</td>\n",
       "      <td>201402</td>\n",
       "      <td>14</td>\n",
       "      <td>800</td>\n",
       "      <td>83476.0</td>\n",
       "      <td>503982</td>\n",
       "      <td>NEW HAMPSHIRE</td>\n",
       "      <td>33.0</td>\n",
       "      <td>...</td>\n",
       "      <td>NaN</td>\n",
       "      <td>NaN</td>\n",
       "      <td>NaN</td>\n",
       "      <td>NaN</td>\n",
       "      <td>NaN</td>\n",
       "      <td>NaN</td>\n",
       "      <td>NaN</td>\n",
       "      <td>A significant winter storm brought six to twel...</td>\n",
       "      <td>Five to eight inches of snow fell across easte...</td>\n",
       "      <td>CSV</td>\n",
       "    </tr>\n",
       "  </tbody>\n",
       "</table>\n",
       "<p>5 rows × 51 columns</p>\n",
       "</div>"
      ],
      "text/plain": [
       "   BEGIN_YEARMONTH  BEGIN_DAY  BEGIN_TIME  END_YEARMONTH  END_DAY  END_TIME  \\\n",
       "0           201402         18        1000         201402       18      2000   \n",
       "1           201402          5         300         201402        5      2300   \n",
       "2           201401         18        1000         201401       19       700   \n",
       "3           201411         26        1000         201411       27      1000   \n",
       "4           201402         13         630         201402       14       800   \n",
       "\n",
       "   EPISODE_ID  EVENT_ID          STATE  STATE_FIPS  ...  END_RANGE  \\\n",
       "0     83473.0    503953  NEW HAMPSHIRE        33.0  ...        NaN   \n",
       "1     83491.0    504065  NEW HAMPSHIRE        33.0  ...        NaN   \n",
       "2     82185.0    494521  NEW HAMPSHIRE        33.0  ...        NaN   \n",
       "3     91728.0    549746  NEW HAMPSHIRE        33.0  ...        NaN   \n",
       "4     83476.0    503982  NEW HAMPSHIRE        33.0  ...        NaN   \n",
       "\n",
       "  END_AZIMUTH END_LOCATION BEGIN_LAT  BEGIN_LON END_LAT END_LON  \\\n",
       "0         NaN          NaN       NaN        NaN     NaN     NaN   \n",
       "1         NaN          NaN       NaN        NaN     NaN     NaN   \n",
       "2         NaN          NaN       NaN        NaN     NaN     NaN   \n",
       "3         NaN          NaN       NaN        NaN     NaN     NaN   \n",
       "4         NaN          NaN       NaN        NaN     NaN     NaN   \n",
       "\n",
       "                                   EPISODE_NARRATIVE  \\\n",
       "0  Low pressure developing south of Long Island a...   \n",
       "1  Low pressure moving off the mid-Atlantic coast...   \n",
       "2  Low pressure brought a brief period of heavy s...   \n",
       "3  A strong coastal storm moved up the east coast...   \n",
       "4  A significant winter storm brought six to twel...   \n",
       "\n",
       "                                     EVENT_NARRATIVE DATA_SOURCE  \n",
       "0  Eight to twelve inches of snow fell across eas...         CSV  \n",
       "1  Six to twelve inches of snow fell across easte...         CSV  \n",
       "2  Four to eight inches of snow fell across easte...         CSV  \n",
       "3  Six to eight inches of snow fell across easter...         CSV  \n",
       "4  Five to eight inches of snow fell across easte...         CSV  \n",
       "\n",
       "[5 rows x 51 columns]"
      ]
     },
     "execution_count": 2,
     "metadata": {},
     "output_type": "execute_result"
    }
   ],
   "source": [
    "#use folder path as the path to folder with all the yearly storm data\n",
    "folder_path='./Resources/'\n",
    "dfs=[]\n",
    "for filename in os.listdir(folder_path):\n",
    "    if filename.endswith('.csv'):\n",
    "        file_path = os.path.join(folder_path, filename)\n",
    "        # Read CSV file into a dataframe\n",
    "        df = pd.read_csv(file_path, low_memory=False)\n",
    "        # Append dataframe to the list\n",
    "        dfs.append(df)\n",
    "combined_storm_df = pd.concat(dfs, ignore_index=True)\n",
    "\n",
    "combined_storm_df.head()"
   ]
  },
  {
   "cell_type": "code",
   "execution_count": 3,
   "metadata": {},
   "outputs": [
    {
     "data": {
      "text/plain": [
       "1671202"
      ]
     },
     "execution_count": 3,
     "metadata": {},
     "output_type": "execute_result"
    }
   ],
   "source": [
    "len(combined_storm_df)"
   ]
  },
  {
   "cell_type": "code",
   "execution_count": 4,
   "metadata": {},
   "outputs": [
    {
     "name": "stdout",
     "output_type": "stream",
     "text": [
      "125244 storm records in TEXAS\n"
     ]
    },
    {
     "data": {
      "text/html": [
       "<div>\n",
       "<style scoped>\n",
       "    .dataframe tbody tr th:only-of-type {\n",
       "        vertical-align: middle;\n",
       "    }\n",
       "\n",
       "    .dataframe tbody tr th {\n",
       "        vertical-align: top;\n",
       "    }\n",
       "\n",
       "    .dataframe thead th {\n",
       "        text-align: right;\n",
       "    }\n",
       "</style>\n",
       "<table border=\"1\" class=\"dataframe\">\n",
       "  <thead>\n",
       "    <tr style=\"text-align: right;\">\n",
       "      <th></th>\n",
       "      <th>BEGIN_YEARMONTH</th>\n",
       "      <th>BEGIN_DAY</th>\n",
       "      <th>BEGIN_TIME</th>\n",
       "      <th>END_YEARMONTH</th>\n",
       "      <th>END_DAY</th>\n",
       "      <th>END_TIME</th>\n",
       "      <th>EPISODE_ID</th>\n",
       "      <th>EVENT_ID</th>\n",
       "      <th>STATE</th>\n",
       "      <th>STATE_FIPS</th>\n",
       "      <th>...</th>\n",
       "      <th>END_RANGE</th>\n",
       "      <th>END_AZIMUTH</th>\n",
       "      <th>END_LOCATION</th>\n",
       "      <th>BEGIN_LAT</th>\n",
       "      <th>BEGIN_LON</th>\n",
       "      <th>END_LAT</th>\n",
       "      <th>END_LON</th>\n",
       "      <th>EPISODE_NARRATIVE</th>\n",
       "      <th>EVENT_NARRATIVE</th>\n",
       "      <th>DATA_SOURCE</th>\n",
       "    </tr>\n",
       "  </thead>\n",
       "  <tbody>\n",
       "    <tr>\n",
       "      <th>307</th>\n",
       "      <td>201409</td>\n",
       "      <td>20</td>\n",
       "      <td>1500</td>\n",
       "      <td>201409</td>\n",
       "      <td>20</td>\n",
       "      <td>1540</td>\n",
       "      <td>89769.0</td>\n",
       "      <td>540290</td>\n",
       "      <td>TEXAS</td>\n",
       "      <td>48.0</td>\n",
       "      <td>...</td>\n",
       "      <td>1.0</td>\n",
       "      <td>SW</td>\n",
       "      <td>MENTONE</td>\n",
       "      <td>31.6898</td>\n",
       "      <td>-103.6120</td>\n",
       "      <td>31.6930</td>\n",
       "      <td>-103.6099</td>\n",
       "      <td>Remains of Tropical Storm Odile were over the ...</td>\n",
       "      <td>Heavy rain fell across Loving County and produ...</td>\n",
       "      <td>CSV</td>\n",
       "    </tr>\n",
       "    <tr>\n",
       "      <th>308</th>\n",
       "      <td>201409</td>\n",
       "      <td>20</td>\n",
       "      <td>2058</td>\n",
       "      <td>201409</td>\n",
       "      <td>20</td>\n",
       "      <td>2140</td>\n",
       "      <td>89769.0</td>\n",
       "      <td>540394</td>\n",
       "      <td>TEXAS</td>\n",
       "      <td>48.0</td>\n",
       "      <td>...</td>\n",
       "      <td>15.0</td>\n",
       "      <td>SE</td>\n",
       "      <td>ANDREWS CO ARPT</td>\n",
       "      <td>32.1669</td>\n",
       "      <td>-102.3464</td>\n",
       "      <td>32.1724</td>\n",
       "      <td>-102.3499</td>\n",
       "      <td>Remains of Tropical Storm Odile were over the ...</td>\n",
       "      <td>Heavy rain fell across Andrews County and prod...</td>\n",
       "      <td>CSV</td>\n",
       "    </tr>\n",
       "    <tr>\n",
       "      <th>309</th>\n",
       "      <td>201409</td>\n",
       "      <td>21</td>\n",
       "      <td>722</td>\n",
       "      <td>201409</td>\n",
       "      <td>21</td>\n",
       "      <td>830</td>\n",
       "      <td>89819.0</td>\n",
       "      <td>540409</td>\n",
       "      <td>TEXAS</td>\n",
       "      <td>48.0</td>\n",
       "      <td>...</td>\n",
       "      <td>1.0</td>\n",
       "      <td>N</td>\n",
       "      <td>MIDLAND</td>\n",
       "      <td>32.0181</td>\n",
       "      <td>-102.0819</td>\n",
       "      <td>32.0204</td>\n",
       "      <td>-102.0825</td>\n",
       "      <td>The remnants of Tropical Storm Odile and an as...</td>\n",
       "      <td>Heavy rain fell across Midland County and prod...</td>\n",
       "      <td>CSV</td>\n",
       "    </tr>\n",
       "    <tr>\n",
       "      <th>325</th>\n",
       "      <td>201409</td>\n",
       "      <td>23</td>\n",
       "      <td>645</td>\n",
       "      <td>201409</td>\n",
       "      <td>23</td>\n",
       "      <td>800</td>\n",
       "      <td>90016.0</td>\n",
       "      <td>541042</td>\n",
       "      <td>TEXAS</td>\n",
       "      <td>48.0</td>\n",
       "      <td>...</td>\n",
       "      <td>19.0</td>\n",
       "      <td>E</td>\n",
       "      <td>PINE SPGS</td>\n",
       "      <td>31.8677</td>\n",
       "      <td>-104.5267</td>\n",
       "      <td>31.8849</td>\n",
       "      <td>-104.4848</td>\n",
       "      <td>Weak upper ridging was to the west of the regi...</td>\n",
       "      <td>Heavy rain fell across Culberson County and pr...</td>\n",
       "      <td>CSV</td>\n",
       "    </tr>\n",
       "    <tr>\n",
       "      <th>326</th>\n",
       "      <td>201409</td>\n",
       "      <td>26</td>\n",
       "      <td>1200</td>\n",
       "      <td>201409</td>\n",
       "      <td>26</td>\n",
       "      <td>1800</td>\n",
       "      <td>90018.0</td>\n",
       "      <td>541049</td>\n",
       "      <td>TEXAS</td>\n",
       "      <td>48.0</td>\n",
       "      <td>...</td>\n",
       "      <td>10.0</td>\n",
       "      <td>NE</td>\n",
       "      <td>ORLA</td>\n",
       "      <td>31.8554</td>\n",
       "      <td>-103.9252</td>\n",
       "      <td>31.9300</td>\n",
       "      <td>-103.7769</td>\n",
       "      <td>An upper level low pressure system that moved ...</td>\n",
       "      <td>Heavy rains from the previous week of rainfall...</td>\n",
       "      <td>CSV</td>\n",
       "    </tr>\n",
       "  </tbody>\n",
       "</table>\n",
       "<p>5 rows × 51 columns</p>\n",
       "</div>"
      ],
      "text/plain": [
       "     BEGIN_YEARMONTH  BEGIN_DAY  BEGIN_TIME  END_YEARMONTH  END_DAY  END_TIME  \\\n",
       "307           201409         20        1500         201409       20      1540   \n",
       "308           201409         20        2058         201409       20      2140   \n",
       "309           201409         21         722         201409       21       830   \n",
       "325           201409         23         645         201409       23       800   \n",
       "326           201409         26        1200         201409       26      1800   \n",
       "\n",
       "     EPISODE_ID  EVENT_ID  STATE  STATE_FIPS  ...  END_RANGE END_AZIMUTH  \\\n",
       "307     89769.0    540290  TEXAS        48.0  ...        1.0          SW   \n",
       "308     89769.0    540394  TEXAS        48.0  ...       15.0          SE   \n",
       "309     89819.0    540409  TEXAS        48.0  ...        1.0           N   \n",
       "325     90016.0    541042  TEXAS        48.0  ...       19.0           E   \n",
       "326     90018.0    541049  TEXAS        48.0  ...       10.0          NE   \n",
       "\n",
       "        END_LOCATION BEGIN_LAT  BEGIN_LON  END_LAT   END_LON  \\\n",
       "307          MENTONE   31.6898  -103.6120  31.6930 -103.6099   \n",
       "308  ANDREWS CO ARPT   32.1669  -102.3464  32.1724 -102.3499   \n",
       "309          MIDLAND   32.0181  -102.0819  32.0204 -102.0825   \n",
       "325        PINE SPGS   31.8677  -104.5267  31.8849 -104.4848   \n",
       "326             ORLA   31.8554  -103.9252  31.9300 -103.7769   \n",
       "\n",
       "                                     EPISODE_NARRATIVE  \\\n",
       "307  Remains of Tropical Storm Odile were over the ...   \n",
       "308  Remains of Tropical Storm Odile were over the ...   \n",
       "309  The remnants of Tropical Storm Odile and an as...   \n",
       "325  Weak upper ridging was to the west of the regi...   \n",
       "326  An upper level low pressure system that moved ...   \n",
       "\n",
       "                                       EVENT_NARRATIVE DATA_SOURCE  \n",
       "307  Heavy rain fell across Loving County and produ...         CSV  \n",
       "308  Heavy rain fell across Andrews County and prod...         CSV  \n",
       "309  Heavy rain fell across Midland County and prod...         CSV  \n",
       "325  Heavy rain fell across Culberson County and pr...         CSV  \n",
       "326  Heavy rains from the previous week of rainfall...         CSV  \n",
       "\n",
       "[5 rows x 51 columns]"
      ]
     },
     "execution_count": 4,
     "metadata": {},
     "output_type": "execute_result"
    }
   ],
   "source": [
    "# filter to just texas\n",
    "us_state = \"TEXAS\"\n",
    "\n",
    "combined_storm_df = combined_storm_df.loc[combined_storm_df['STATE'] == us_state, :]\n",
    "\n",
    "print(len(combined_storm_df), \"storm records in\", us_state)\n",
    "combined_storm_df.head()"
   ]
  },
  {
   "cell_type": "code",
   "execution_count": 5,
   "metadata": {},
   "outputs": [
    {
     "data": {
      "text/html": [
       "<div>\n",
       "<style scoped>\n",
       "    .dataframe tbody tr th:only-of-type {\n",
       "        vertical-align: middle;\n",
       "    }\n",
       "\n",
       "    .dataframe tbody tr th {\n",
       "        vertical-align: top;\n",
       "    }\n",
       "\n",
       "    .dataframe thead th {\n",
       "        text-align: right;\n",
       "    }\n",
       "</style>\n",
       "<table border=\"1\" class=\"dataframe\">\n",
       "  <thead>\n",
       "    <tr style=\"text-align: right;\">\n",
       "      <th></th>\n",
       "      <th>BEGIN_DATE_TIME</th>\n",
       "      <th>DAMAGE_PROPERTY</th>\n",
       "      <th>EVENT_TYPE</th>\n",
       "    </tr>\n",
       "  </thead>\n",
       "  <tbody>\n",
       "    <tr>\n",
       "      <th>307</th>\n",
       "      <td>20-SEP-14 15:00:00</td>\n",
       "      <td>0.50K</td>\n",
       "      <td>Flash Flood</td>\n",
       "    </tr>\n",
       "    <tr>\n",
       "      <th>308</th>\n",
       "      <td>20-SEP-14 20:58:00</td>\n",
       "      <td>0.30K</td>\n",
       "      <td>Flash Flood</td>\n",
       "    </tr>\n",
       "    <tr>\n",
       "      <th>309</th>\n",
       "      <td>21-SEP-14 07:22:00</td>\n",
       "      <td>1.00K</td>\n",
       "      <td>Flash Flood</td>\n",
       "    </tr>\n",
       "    <tr>\n",
       "      <th>325</th>\n",
       "      <td>23-SEP-14 06:45:00</td>\n",
       "      <td>0.20K</td>\n",
       "      <td>Flood</td>\n",
       "    </tr>\n",
       "    <tr>\n",
       "      <th>326</th>\n",
       "      <td>26-SEP-14 12:00:00</td>\n",
       "      <td>0.50K</td>\n",
       "      <td>Flood</td>\n",
       "    </tr>\n",
       "  </tbody>\n",
       "</table>\n",
       "</div>"
      ],
      "text/plain": [
       "        BEGIN_DATE_TIME DAMAGE_PROPERTY   EVENT_TYPE\n",
       "307  20-SEP-14 15:00:00           0.50K  Flash Flood\n",
       "308  20-SEP-14 20:58:00           0.30K  Flash Flood\n",
       "309  21-SEP-14 07:22:00           1.00K  Flash Flood\n",
       "325  23-SEP-14 06:45:00           0.20K        Flood\n",
       "326  26-SEP-14 12:00:00           0.50K        Flood"
      ]
     },
     "execution_count": 5,
     "metadata": {},
     "output_type": "execute_result"
    }
   ],
   "source": [
    "#remove the columns we obviously do not need\n",
    "combined_storm_df = combined_storm_df[['BEGIN_DATE_TIME','DAMAGE_PROPERTY','EVENT_TYPE']]\n",
    "combined_storm_df.head()"
   ]
  },
  {
   "cell_type": "code",
   "execution_count": 6,
   "metadata": {},
   "outputs": [],
   "source": [
    "#fill the null values in 'DAMAGE_PROPERTY' column with 0s\n",
    "combined_storm_df['DAMAGE_PROPERTY'] = combined_storm_df['DAMAGE_PROPERTY'].fillna(0)\n"
   ]
  },
  {
   "cell_type": "code",
   "execution_count": 7,
   "metadata": {},
   "outputs": [
    {
     "data": {
      "text/plain": [
       "125244"
      ]
     },
     "execution_count": 7,
     "metadata": {},
     "output_type": "execute_result"
    }
   ],
   "source": [
    "len(combined_storm_df)"
   ]
  },
  {
   "cell_type": "code",
   "execution_count": 8,
   "metadata": {},
   "outputs": [
    {
     "data": {
      "text/html": [
       "<div>\n",
       "<style scoped>\n",
       "    .dataframe tbody tr th:only-of-type {\n",
       "        vertical-align: middle;\n",
       "    }\n",
       "\n",
       "    .dataframe tbody tr th {\n",
       "        vertical-align: top;\n",
       "    }\n",
       "\n",
       "    .dataframe thead th {\n",
       "        text-align: right;\n",
       "    }\n",
       "</style>\n",
       "<table border=\"1\" class=\"dataframe\">\n",
       "  <thead>\n",
       "    <tr style=\"text-align: right;\">\n",
       "      <th></th>\n",
       "      <th>BEGIN_DATE_TIME</th>\n",
       "      <th>DAMAGE_PROPERTY</th>\n",
       "      <th>EVENT_TYPE</th>\n",
       "    </tr>\n",
       "  </thead>\n",
       "  <tbody>\n",
       "    <tr>\n",
       "      <th>307</th>\n",
       "      <td>20-SEP-14 15:00:00</td>\n",
       "      <td>0.50K</td>\n",
       "      <td>Flash Flood</td>\n",
       "    </tr>\n",
       "    <tr>\n",
       "      <th>308</th>\n",
       "      <td>20-SEP-14 20:58:00</td>\n",
       "      <td>0.30K</td>\n",
       "      <td>Flash Flood</td>\n",
       "    </tr>\n",
       "    <tr>\n",
       "      <th>309</th>\n",
       "      <td>21-SEP-14 07:22:00</td>\n",
       "      <td>1.00K</td>\n",
       "      <td>Flash Flood</td>\n",
       "    </tr>\n",
       "    <tr>\n",
       "      <th>325</th>\n",
       "      <td>23-SEP-14 06:45:00</td>\n",
       "      <td>0.20K</td>\n",
       "      <td>Flood</td>\n",
       "    </tr>\n",
       "    <tr>\n",
       "      <th>326</th>\n",
       "      <td>26-SEP-14 12:00:00</td>\n",
       "      <td>0.50K</td>\n",
       "      <td>Flood</td>\n",
       "    </tr>\n",
       "  </tbody>\n",
       "</table>\n",
       "</div>"
      ],
      "text/plain": [
       "        BEGIN_DATE_TIME DAMAGE_PROPERTY   EVENT_TYPE\n",
       "307  20-SEP-14 15:00:00           0.50K  Flash Flood\n",
       "308  20-SEP-14 20:58:00           0.30K  Flash Flood\n",
       "309  21-SEP-14 07:22:00           1.00K  Flash Flood\n",
       "325  23-SEP-14 06:45:00           0.20K        Flood\n",
       "326  26-SEP-14 12:00:00           0.50K        Flood"
      ]
     },
     "execution_count": 8,
     "metadata": {},
     "output_type": "execute_result"
    }
   ],
   "source": [
    "combined_storm_df.head()"
   ]
  },
  {
   "cell_type": "code",
   "execution_count": 9,
   "metadata": {},
   "outputs": [],
   "source": [
    "#function to convert the values in 'DAMAGE_PROPERTY' to float\n",
    "def value_to_float(x):\n",
    "    if type(x) == float or type(x) == int:\n",
    "        return x\n",
    "    if 'K' in x:\n",
    "        if len(x) > 1:\n",
    "            return float(x.replace('K', '')) * 1000\n",
    "        return 1000.0\n",
    "    if 'M' in x:\n",
    "        if len(x) > 1:\n",
    "            return float(x.replace('M', '')) * 1000000\n",
    "        return 1000000.0\n",
    "    if 'B' in x:\n",
    "        return float(x.replace('B', '')) * 1000000000\n",
    "    return 0.0"
   ]
  },
  {
   "cell_type": "code",
   "execution_count": 10,
   "metadata": {},
   "outputs": [],
   "source": [
    "combined_storm_df['DAMAGE_PROPERTY'] = combined_storm_df['DAMAGE_PROPERTY'].apply(value_to_float)"
   ]
  },
  {
   "cell_type": "code",
   "execution_count": 11,
   "metadata": {},
   "outputs": [],
   "source": [
    "#function to convert values in 'BEGIN_DATE_TIME' AND 'END_DATE_TIME' to datetime variables\n",
    "def convert_to_datetime(date_string):\n",
    "    format_string = '%d-%b-%y %H:%M:%S'\n",
    "    return dt.datetime.strptime(date_string, format_string)"
   ]
  },
  {
   "cell_type": "code",
   "execution_count": 12,
   "metadata": {},
   "outputs": [],
   "source": [
    "combined_storm_df['BEGIN_DATE_TIME'] = combined_storm_df['BEGIN_DATE_TIME'].apply(convert_to_datetime)"
   ]
  },
  {
   "cell_type": "markdown",
   "metadata": {},
   "source": [
    "## Aggregating Storm Data by Month"
   ]
  },
  {
   "cell_type": "code",
   "execution_count": 13,
   "metadata": {},
   "outputs": [
    {
     "data": {
      "text/plain": [
       "104554"
      ]
     },
     "execution_count": 13,
     "metadata": {},
     "output_type": "execute_result"
    }
   ],
   "source": [
    "# filter out any dates before 2000\n",
    "combined_storm_df = combined_storm_df.loc[combined_storm_df['BEGIN_DATE_TIME'] > dt.datetime(2000, 1, 1)]\n",
    "\n",
    "len(combined_storm_df)"
   ]
  },
  {
   "cell_type": "code",
   "execution_count": 14,
   "metadata": {},
   "outputs": [
    {
     "data": {
      "text/html": [
       "<div>\n",
       "<style scoped>\n",
       "    .dataframe tbody tr th:only-of-type {\n",
       "        vertical-align: middle;\n",
       "    }\n",
       "\n",
       "    .dataframe tbody tr th {\n",
       "        vertical-align: top;\n",
       "    }\n",
       "\n",
       "    .dataframe thead th {\n",
       "        text-align: right;\n",
       "    }\n",
       "</style>\n",
       "<table border=\"1\" class=\"dataframe\">\n",
       "  <thead>\n",
       "    <tr style=\"text-align: right;\">\n",
       "      <th></th>\n",
       "      <th>BEGIN_DATE_TIME</th>\n",
       "      <th>DAMAGE_PROPERTY</th>\n",
       "      <th>EVENT_TYPE</th>\n",
       "      <th>BEGIN_MONTH</th>\n",
       "    </tr>\n",
       "  </thead>\n",
       "  <tbody>\n",
       "    <tr>\n",
       "      <th>307</th>\n",
       "      <td>2014-09-20 15:00:00</td>\n",
       "      <td>500.0</td>\n",
       "      <td>Flash Flood</td>\n",
       "      <td>2014-09</td>\n",
       "    </tr>\n",
       "    <tr>\n",
       "      <th>308</th>\n",
       "      <td>2014-09-20 20:58:00</td>\n",
       "      <td>300.0</td>\n",
       "      <td>Flash Flood</td>\n",
       "      <td>2014-09</td>\n",
       "    </tr>\n",
       "    <tr>\n",
       "      <th>309</th>\n",
       "      <td>2014-09-21 07:22:00</td>\n",
       "      <td>1000.0</td>\n",
       "      <td>Flash Flood</td>\n",
       "      <td>2014-09</td>\n",
       "    </tr>\n",
       "    <tr>\n",
       "      <th>325</th>\n",
       "      <td>2014-09-23 06:45:00</td>\n",
       "      <td>200.0</td>\n",
       "      <td>Flood</td>\n",
       "      <td>2014-09</td>\n",
       "    </tr>\n",
       "    <tr>\n",
       "      <th>326</th>\n",
       "      <td>2014-09-26 12:00:00</td>\n",
       "      <td>500.0</td>\n",
       "      <td>Flood</td>\n",
       "      <td>2014-09</td>\n",
       "    </tr>\n",
       "  </tbody>\n",
       "</table>\n",
       "</div>"
      ],
      "text/plain": [
       "        BEGIN_DATE_TIME  DAMAGE_PROPERTY   EVENT_TYPE BEGIN_MONTH\n",
       "307 2014-09-20 15:00:00            500.0  Flash Flood     2014-09\n",
       "308 2014-09-20 20:58:00            300.0  Flash Flood     2014-09\n",
       "309 2014-09-21 07:22:00           1000.0  Flash Flood     2014-09\n",
       "325 2014-09-23 06:45:00            200.0        Flood     2014-09\n",
       "326 2014-09-26 12:00:00            500.0        Flood     2014-09"
      ]
     },
     "execution_count": 14,
     "metadata": {},
     "output_type": "execute_result"
    }
   ],
   "source": [
    "# Adding month column from begin_datetime\n",
    "combined_storm_df['BEGIN_MONTH'] = combined_storm_df['BEGIN_DATE_TIME'].dt.to_period('M')\n",
    "\n",
    "combined_storm_df.head()"
   ]
  },
  {
   "cell_type": "code",
   "execution_count": 15,
   "metadata": {},
   "outputs": [
    {
     "name": "stdout",
     "output_type": "stream",
     "text": [
      "2023-11\n",
      "2000-01\n"
     ]
    }
   ],
   "source": [
    "# verifying dates in range\n",
    "print(combined_storm_df['BEGIN_MONTH'].max())\n",
    "print(combined_storm_df['BEGIN_MONTH'].min())\n"
   ]
  },
  {
   "cell_type": "code",
   "execution_count": 16,
   "metadata": {},
   "outputs": [
    {
     "name": "stdout",
     "output_type": "stream",
     "text": [
      "<class 'pandas.core.frame.DataFrame'>\n",
      "Index: 104554 entries, 307 to 1624811\n",
      "Data columns (total 4 columns):\n",
      " #   Column           Non-Null Count   Dtype         \n",
      "---  ------           --------------   -----         \n",
      " 0   BEGIN_DATE_TIME  104554 non-null  datetime64[ns]\n",
      " 1   DAMAGE_PROPERTY  104554 non-null  float64       \n",
      " 2   EVENT_TYPE       104554 non-null  object        \n",
      " 3   BEGIN_MONTH      104554 non-null  period[M]     \n",
      "dtypes: datetime64[ns](1), float64(1), object(1), period[M](1)\n",
      "memory usage: 4.0+ MB\n"
     ]
    }
   ],
   "source": [
    "# grabbing df info to inform aggregation functions\n",
    "combined_storm_df.info()"
   ]
  },
  {
   "cell_type": "code",
   "execution_count": 17,
   "metadata": {},
   "outputs": [
    {
     "data": {
      "text/html": [
       "<div>\n",
       "<style scoped>\n",
       "    .dataframe tbody tr th:only-of-type {\n",
       "        vertical-align: middle;\n",
       "    }\n",
       "\n",
       "    .dataframe tbody tr th {\n",
       "        vertical-align: top;\n",
       "    }\n",
       "\n",
       "    .dataframe thead th {\n",
       "        text-align: right;\n",
       "    }\n",
       "</style>\n",
       "<table border=\"1\" class=\"dataframe\">\n",
       "  <thead>\n",
       "    <tr style=\"text-align: right;\">\n",
       "      <th></th>\n",
       "      <th>DAMAGE_PROPERTY</th>\n",
       "      <th>EVENT_COUNT</th>\n",
       "    </tr>\n",
       "    <tr>\n",
       "      <th>BEGIN_MONTH</th>\n",
       "      <th></th>\n",
       "      <th></th>\n",
       "    </tr>\n",
       "  </thead>\n",
       "  <tbody>\n",
       "    <tr>\n",
       "      <th>2000-01</th>\n",
       "      <td>0.000000e+00</td>\n",
       "      <td>76</td>\n",
       "    </tr>\n",
       "    <tr>\n",
       "      <th>2000-02</th>\n",
       "      <td>2.088900e+07</td>\n",
       "      <td>177</td>\n",
       "    </tr>\n",
       "    <tr>\n",
       "      <th>2000-03</th>\n",
       "      <td>1.454270e+07</td>\n",
       "      <td>731</td>\n",
       "    </tr>\n",
       "    <tr>\n",
       "      <th>2000-04</th>\n",
       "      <td>1.729150e+07</td>\n",
       "      <td>616</td>\n",
       "    </tr>\n",
       "    <tr>\n",
       "      <th>2000-05</th>\n",
       "      <td>5.461070e+07</td>\n",
       "      <td>635</td>\n",
       "    </tr>\n",
       "    <tr>\n",
       "      <th>2000-06</th>\n",
       "      <td>1.256400e+07</td>\n",
       "      <td>341</td>\n",
       "    </tr>\n",
       "    <tr>\n",
       "      <th>2000-07</th>\n",
       "      <td>1.749000e+06</td>\n",
       "      <td>226</td>\n",
       "    </tr>\n",
       "    <tr>\n",
       "      <th>2000-08</th>\n",
       "      <td>1.920000e+06</td>\n",
       "      <td>327</td>\n",
       "    </tr>\n",
       "    <tr>\n",
       "      <th>2000-09</th>\n",
       "      <td>2.694000e+06</td>\n",
       "      <td>322</td>\n",
       "    </tr>\n",
       "    <tr>\n",
       "      <th>2000-10</th>\n",
       "      <td>3.487500e+06</td>\n",
       "      <td>241</td>\n",
       "    </tr>\n",
       "    <tr>\n",
       "      <th>2000-11</th>\n",
       "      <td>9.306000e+06</td>\n",
       "      <td>302</td>\n",
       "    </tr>\n",
       "    <tr>\n",
       "      <th>2000-12</th>\n",
       "      <td>1.569150e+08</td>\n",
       "      <td>294</td>\n",
       "    </tr>\n",
       "    <tr>\n",
       "      <th>2001-01</th>\n",
       "      <td>3.910000e+05</td>\n",
       "      <td>149</td>\n",
       "    </tr>\n",
       "    <tr>\n",
       "      <th>2001-02</th>\n",
       "      <td>2.963000e+06</td>\n",
       "      <td>234</td>\n",
       "    </tr>\n",
       "    <tr>\n",
       "      <th>2001-03</th>\n",
       "      <td>4.376000e+06</td>\n",
       "      <td>194</td>\n",
       "    </tr>\n",
       "    <tr>\n",
       "      <th>2001-04</th>\n",
       "      <td>5.524800e+07</td>\n",
       "      <td>425</td>\n",
       "    </tr>\n",
       "    <tr>\n",
       "      <th>2001-05</th>\n",
       "      <td>2.379848e+08</td>\n",
       "      <td>860</td>\n",
       "    </tr>\n",
       "    <tr>\n",
       "      <th>2001-06</th>\n",
       "      <td>5.162190e+09</td>\n",
       "      <td>360</td>\n",
       "    </tr>\n",
       "    <tr>\n",
       "      <th>2001-07</th>\n",
       "      <td>5.000000e+05</td>\n",
       "      <td>74</td>\n",
       "    </tr>\n",
       "    <tr>\n",
       "      <th>2001-08</th>\n",
       "      <td>6.025000e+06</td>\n",
       "      <td>274</td>\n",
       "    </tr>\n",
       "    <tr>\n",
       "      <th>2001-09</th>\n",
       "      <td>2.429500e+06</td>\n",
       "      <td>293</td>\n",
       "    </tr>\n",
       "    <tr>\n",
       "      <th>2001-10</th>\n",
       "      <td>3.238200e+07</td>\n",
       "      <td>249</td>\n",
       "    </tr>\n",
       "    <tr>\n",
       "      <th>2001-11</th>\n",
       "      <td>4.406000e+06</td>\n",
       "      <td>297</td>\n",
       "    </tr>\n",
       "    <tr>\n",
       "      <th>2001-12</th>\n",
       "      <td>3.042000e+06</td>\n",
       "      <td>79</td>\n",
       "    </tr>\n",
       "  </tbody>\n",
       "</table>\n",
       "</div>"
      ],
      "text/plain": [
       "             DAMAGE_PROPERTY  EVENT_COUNT\n",
       "BEGIN_MONTH                              \n",
       "2000-01         0.000000e+00           76\n",
       "2000-02         2.088900e+07          177\n",
       "2000-03         1.454270e+07          731\n",
       "2000-04         1.729150e+07          616\n",
       "2000-05         5.461070e+07          635\n",
       "2000-06         1.256400e+07          341\n",
       "2000-07         1.749000e+06          226\n",
       "2000-08         1.920000e+06          327\n",
       "2000-09         2.694000e+06          322\n",
       "2000-10         3.487500e+06          241\n",
       "2000-11         9.306000e+06          302\n",
       "2000-12         1.569150e+08          294\n",
       "2001-01         3.910000e+05          149\n",
       "2001-02         2.963000e+06          234\n",
       "2001-03         4.376000e+06          194\n",
       "2001-04         5.524800e+07          425\n",
       "2001-05         2.379848e+08          860\n",
       "2001-06         5.162190e+09          360\n",
       "2001-07         5.000000e+05           74\n",
       "2001-08         6.025000e+06          274\n",
       "2001-09         2.429500e+06          293\n",
       "2001-10         3.238200e+07          249\n",
       "2001-11         4.406000e+06          297\n",
       "2001-12         3.042000e+06           79"
      ]
     },
     "execution_count": 17,
     "metadata": {},
     "output_type": "execute_result"
    }
   ],
   "source": [
    "# aggregating our storm data\n",
    "\n",
    "# setting the aggregation functions via dict to pass in\n",
    "aggs = {\n",
    "    \"DAMAGE_PROPERTY\": 'sum',\n",
    "    \"EVENT_TYPE\": \"count\",\n",
    "}\n",
    "\n",
    "agg_storm_df = combined_storm_df.groupby('BEGIN_MONTH').agg(aggs).rename(columns={\"EVENT_TYPE\": \"EVENT_COUNT\"})\n",
    "\n",
    "agg_storm_df.head(24)"
   ]
  },
  {
   "cell_type": "markdown",
   "metadata": {},
   "source": [
    "## Pulling in/Merging Real Estate Data"
   ]
  },
  {
   "cell_type": "code",
   "execution_count": 18,
   "metadata": {},
   "outputs": [
    {
     "name": "stdout",
     "output_type": "stream",
     "text": [
      "['RegionID', 'SizeRank', 'RegionName', 'RegionType', 'StateName', '2000-01-31', '2000-02-29', '2000-03-31', '2000-04-30', '2000-05-31', '2000-06-30', '2000-07-31', '2000-08-31', '2000-09-30', '2000-10-31', '2000-11-30', '2000-12-31', '2001-01-31', '2001-02-28', '2001-03-31', '2001-04-30', '2001-05-31', '2001-06-30', '2001-07-31', '2001-08-31', '2001-09-30', '2001-10-31', '2001-11-30', '2001-12-31', '2002-01-31', '2002-02-28', '2002-03-31', '2002-04-30', '2002-05-31', '2002-06-30', '2002-07-31', '2002-08-31', '2002-09-30', '2002-10-31', '2002-11-30', '2002-12-31', '2003-01-31', '2003-02-28', '2003-03-31', '2003-04-30', '2003-05-31', '2003-06-30', '2003-07-31', '2003-08-31', '2003-09-30', '2003-10-31', '2003-11-30', '2003-12-31', '2004-01-31', '2004-02-29', '2004-03-31', '2004-04-30', '2004-05-31', '2004-06-30', '2004-07-31', '2004-08-31', '2004-09-30', '2004-10-31', '2004-11-30', '2004-12-31', '2005-01-31', '2005-02-28', '2005-03-31', '2005-04-30', '2005-05-31', '2005-06-30', '2005-07-31', '2005-08-31', '2005-09-30', '2005-10-31', '2005-11-30', '2005-12-31', '2006-01-31', '2006-02-28', '2006-03-31', '2006-04-30', '2006-05-31', '2006-06-30', '2006-07-31', '2006-08-31', '2006-09-30', '2006-10-31', '2006-11-30', '2006-12-31', '2007-01-31', '2007-02-28', '2007-03-31', '2007-04-30', '2007-05-31', '2007-06-30', '2007-07-31', '2007-08-31', '2007-09-30', '2007-10-31', '2007-11-30', '2007-12-31', '2008-01-31', '2008-02-29', '2008-03-31', '2008-04-30', '2008-05-31', '2008-06-30', '2008-07-31', '2008-08-31', '2008-09-30', '2008-10-31', '2008-11-30', '2008-12-31', '2009-01-31', '2009-02-28', '2009-03-31', '2009-04-30', '2009-05-31', '2009-06-30', '2009-07-31', '2009-08-31', '2009-09-30', '2009-10-31', '2009-11-30', '2009-12-31', '2010-01-31', '2010-02-28', '2010-03-31', '2010-04-30', '2010-05-31', '2010-06-30', '2010-07-31', '2010-08-31', '2010-09-30', '2010-10-31', '2010-11-30', '2010-12-31', '2011-01-31', '2011-02-28', '2011-03-31', '2011-04-30', '2011-05-31', '2011-06-30', '2011-07-31', '2011-08-31', '2011-09-30', '2011-10-31', '2011-11-30', '2011-12-31', '2012-01-31', '2012-02-29', '2012-03-31', '2012-04-30', '2012-05-31', '2012-06-30', '2012-07-31', '2012-08-31', '2012-09-30', '2012-10-31', '2012-11-30', '2012-12-31', '2013-01-31', '2013-02-28', '2013-03-31', '2013-04-30', '2013-05-31', '2013-06-30', '2013-07-31', '2013-08-31', '2013-09-30', '2013-10-31', '2013-11-30', '2013-12-31', '2014-01-31', '2014-02-28', '2014-03-31', '2014-04-30', '2014-05-31', '2014-06-30', '2014-07-31', '2014-08-31', '2014-09-30', '2014-10-31', '2014-11-30', '2014-12-31', '2015-01-31', '2015-02-28', '2015-03-31', '2015-04-30', '2015-05-31', '2015-06-30', '2015-07-31', '2015-08-31', '2015-09-30', '2015-10-31', '2015-11-30', '2015-12-31', '2016-01-31', '2016-02-29', '2016-03-31', '2016-04-30', '2016-05-31', '2016-06-30', '2016-07-31', '2016-08-31', '2016-09-30', '2016-10-31', '2016-11-30', '2016-12-31', '2017-01-31', '2017-02-28', '2017-03-31', '2017-04-30', '2017-05-31', '2017-06-30', '2017-07-31', '2017-08-31', '2017-09-30', '2017-10-31', '2017-11-30', '2017-12-31', '2018-01-31', '2018-02-28', '2018-03-31', '2018-04-30', '2018-05-31', '2018-06-30', '2018-07-31', '2018-08-31', '2018-09-30', '2018-10-31', '2018-11-30', '2018-12-31', '2019-01-31', '2019-02-28', '2019-03-31', '2019-04-30', '2019-05-31', '2019-06-30', '2019-07-31', '2019-08-31', '2019-09-30', '2019-10-31', '2019-11-30', '2019-12-31', '2020-01-31', '2020-02-29', '2020-03-31', '2020-04-30', '2020-05-31', '2020-06-30', '2020-07-31', '2020-08-31', '2020-09-30', '2020-10-31', '2020-11-30', '2020-12-31', '2021-01-31', '2021-02-28', '2021-03-31', '2021-04-30', '2021-05-31', '2021-06-30', '2021-07-31', '2021-08-31', '2021-09-30', '2021-10-31', '2021-11-30', '2021-12-31', '2022-01-31', '2022-02-28', '2022-03-31', '2022-04-30', '2022-05-31', '2022-06-30', '2022-07-31', '2022-08-31', '2022-09-30', '2022-10-31', '2022-11-30', '2022-12-31', '2023-01-31', '2023-02-28', '2023-03-31', '2023-04-30', '2023-05-31', '2023-06-30', '2023-07-31', '2023-08-31', '2023-09-30', '2023-10-31', '2023-11-30', '2023-12-31', '2024-01-31', '2024-02-29']\n",
      "['9', '0', 'California', 'state', '', '190252.3290963135', '190891.8239611473', '191755.29862276258', '193629.64465037093', '195808.28955393317', '198159.04107605806', '200641.602589204', '203233.52790202867', '205831.46810751516', '208295.15833844393', '210721.42607288875', '213096.00265018482', '215104.77757342125', '217091.04319547137', '219326.74896822148', '222106.54570630044', '224892.0975167197', '227422.54089250742', '229791.60721186709', '232074.23801803286', '234289.74507159265', '236361.29185829413', '238307.37999160323', '240127.22383757538', '241597.5861872904', '243100.84719083572', '244860.37627517933', '247234.59913748913', '250006.7814528766', '253082.532425857', '256640.8302598839', '260471.23448409452', '264341.0676948992', '268013.43928480713', '271611.3731950158', '275159.291637761', '278294.2797575675', '281217.0677432747', '284313.04544689815', '287911.68809978274', '291908.2225867997', '295604.89279548614', '299507.6782002261', '303618.1418191979', '308184.3593843634', '312632.1840926244', '316918.0211154565', '321062.45532457234', '325352.9462414021', '330185.2958647069', '335697.1299554038', '342024.5872939686', '349310.12306698103', '357440.88649140834', '365753.523638893', '373686.707378316', '381199.71156770224', '388415.3458284584', '394759.12375615345', '400888.104751074', '406342.52089158056', '412254.2701438763', '418468.47243318445', '425475.5319813885', '432291.46917497827', '438594.2975771793', '444624.59400034003', '450741.5546924675', '456886.5932106118', '462918.30730132636', '467811.3750890973', '472142.64331378223', '475751.32677041', '478960.91070782184', '482018.0703716209', '484762.92434524256', '487490.46686087066', '489376.9845783489', '490077.50098332827', '490083.6907259973', '489033.47536985506', '487836.6654546732', '486560.56112553854', '485453.400368442', '484539.5811505997', '483467.59010050184', '481933.9577254749', '479967.9088944365', '476901.26926623454', '473369.6060839719', '468849.70404228725', '464136.4834003539', '458839.5338464847', '453280.8365135498', '447693.1411289998', '441703.24632714386', '435738.6886021113', '428698.65762270725', '420288.90517868596', '410430.9505492822', '399937.7687980349', '389747.66426876374', '379427.2029430614', '369491.5690251526', '360312.25336108514', '352374.45409161', '344678.9614103219', '337295.35477158736', '330393.32097111846', '325367.0102692836', '321203.9930193903', '317292.16828093195', '313501.48056156695', '310188.676729886', '307731.90718693665', '305678.5730361315', '304070.2121827944', '303212.8423293534', '304057.49393141194', '305990.79592198133', '307954.35628744605', '308774.67095028755', '309822.76932765055', '311128.19139199506', '312565.5348686543', '312499.69431797945', '311346.89537446597', '309377.74509084394', '307368.5924095491', '305213.0416433387', '303303.6981586256', '301943.74685931666', '300884.7853095206', '299870.24671236944', '298375.6905346797', '296784.88581898966', '294394.87421022676', '292471.27349959716', '290796.2219538628', '288969.16559801286', '286788.22479560034', '284459.7187299659', '283309.96421822684', '282560.6238347722', '282174.3511156764', '281612.9780254913', '280982.0388714781', '280551.191865446', '280747.24015476805', '281856.815128624', '283465.8996054816', '286010.19659403333', '289446.2291812998', '293831.1375789516', '298632.5860334754', '303742.95188927377', '308583.7555332129', '312867.652875028', '316547.5475576517', '320879.43366867054', '326796.8522351225', '333957.44906185166', '341130.41363769537', '347991.18443284597', '354714.666290455', '361355.1408661756', '366925.2041867438', '371411.984542399', '374659.42162544536', '377344.25111482176', '379785.95132441144', '382763.747172036', '385941.36472646636', '388558.18557517393', '390278.7914374915', '391787.33424672607', '394277.87664265675', '397437.20673678815', '400977.81498161977', '404246.9616989439', '407153.4827426852', '409610.04940161365', '411620.7158224304', '413566.8089205231', '415767.2629840982', '418022.27159928856', '419799.2104884141', '420990.08553271083', '422008.6877257098', '423264.29315954074', '424312.2352955162', '425268.07763678656', '428434.7535258599', '433761.9957831674', '439813.45714041404', '444385.77165933093', '447418.78250987735', '450098.9760347923', '451079.22390552046', '450770.6538966689', '449289.3413112006', '448952.6023657285', '450021.2787058821', '452600.84668161697', '457480.7461980898', '463902.4152945669', '470876.7130163295', '476572.4359838597', '480748.4567631541', '484327.43699593114', '486069.84517914423', '487575.83761620364', '489161.4966547415', '492609.72261348256', '496433.4590706075', '500927.4594416867', '506002.0927588692', '511598.83286007604', '516700.6469170432', '520897.01935518114', '524736.3211967252', '527861.4275373527', '530704.5566922656', '533754.7579829233', '537196.2110039116', '540856.8677061414', '543445.5314471843', '544962.2909157708', '544489.2451925784', '542862.6740706972', '541019.7743731579', '539962.0443121906', '539328.8298316962', '538938.349231278', '539348.688087015', '541064.841282488', '543688.045301782', '546780.2396478499', '550147.0163801468', '553636.2892831521', '556486.173229421', '558778.0539403785', '560986.1733555048', '563025.1306132247', '563282.6505986697', '562062.6766466899', '561905.2447179332', '565186.0818563043', '572469.663919684', '581822.2870305582', '592712.9254386389', '603575.9540916681', '612596.4578010594', '620314.2686256996', '627305.966976832', '636459.0291184139', '647419.2648767402', '659186.9157052641', '669822.7704734817', '677181.2417210841', '682170.9332894367', '686625.4536498793', '692498.8329906985', '699739.3796731221', '709837.1349546438', '722794.7798074667', '738419.6161072649', '752628.5052474664', '763338.9106046871', '769033.4513935354', '769344.6646032404', '764650.0572166155', '757141.7182795937', '750382.377930733', '745070.4816728309', '740517.2344675631', '733433.3461964088', '726150.5436178347', '720793.3349901432', '720203.2120895343', '723208.8500747997', '728472.346957293', '735567.5846950918', '743596.141122457', '751268.2682105167', '757506.629173324', '761970.8493737322', '764813.1052515622', '765351.7655779769', '765196.9055679017']\n",
      "['54', '1', 'Texas', 'state', '', '110404.23018583916', '110464.2266963663', '110493.32594389793', '110637.74808980995', '110731.27813634987', '110836.14808748745', '110905.06387118762', '111108.9438393932', '111376.3023123895', '111662.78205547774', '111993.36219406244', '112360.5573931635', '112579.78959423587', '112546.6633866306', '112327.28998538821', '112198.76535769265', '112241.91841185633', '112372.76807294431', '112526.47665162392', '112664.54221847553', '112809.7490821152', '112961.63228752794', '113072.60385351886', '113162.2559297064', '113192.8458962383', '113277.64743907521', '113490.14807069984', '113863.8408265331', '114304.09478945851', '114797.3395836497', '115298.71756662011', '115828.55096344707', '116295.51678597317', '116696.24756546489', '117037.32360642777', '117327.93157746759', '117550.76302052445', '117697.83617480805', '117864.0811958238', '118059.08809650566', '118280.3305044488', '118503.28925555112', '118723.1442060828', '118978.73129184876', '119210.55956567137', '119446.63562339584', '119617.0643963152', '119761.3394071383', '120122.35249080334', '120934.99187102565', '122221.39939463632', '123497.98699132267', '124552.9062574779', '125229.98602144873', '125862.89902175813', '126438.59532798624', '127088.63546870154', '127693.44426046086', '128234.50288137088', '128707.3625105222', '129210.98003712048', '129634.69120634634', '130012.24285929515', '130345.03041848022', '130707.00640606589', '131102.59253185266', '131452.66217096703', '131780.31967931197', '132108.35354735007', '132374.22529073435', '132684.9450241459', '132937.98278422968', '133145.6318743146', '133355.0676902768', '133609.61849108254', '134017.7517066518', '134576.04731680916', '135194.90692002524', '135812.04303875865', '136360.19213320702', '136943.11690471348', '137663.24655906088', '138352.90107743963', '139037.02063871516', '139398.1305634899', '139540.27051178511', '139522.48769386264', '139738.6302478568', '140133.93052699507', '140647.90794718024', '141106.5804026019', '141594.0800251492', '142074.49305629413', '142516.8810569048', '142885.50209701317', '143225.5281172977', '143088.09184743185', '142690.67598004983', '142105.52066038435', '141798.44942871525', '141578.40187175214', '141381.0631254233', '141217.90151288183', '140870.14622714615', '140366.9811217398', '139768.47062245617', '139181.29258388357', '138638.32720420664', '138144.32464405804', '137884.8935279078', '137778.44227304764', '137762.01722744896', '137761.83254896407', '137737.8721324946', '137748.68717662434', '137633.37289278136', '137481.21790420488', '137279.19855957633', '137321.56629480975', '137445.50629540315', '137505.71907767522', '137492.24379791942', '137517.0542644761', '137690.46268342983', '137890.72118276337', '137936.00492268198', '137691.54499315398', '137219.39054243502', '136660.12266441446', '136097.39552101388', '135513.62560562446', '135006.55496794576', '134565.93015327406', '134102.33849023547', '133646.77064293585', '133205.94174214904', '132856.82639952665', '132501.02066068968', '132303.55174994166', '132187.38648790392', '132145.8159563902', '132034.3686032783', '131826.05614509783', '131582.73590097262', '131471.31543020022', '131624.4088599291', '131897.29600826537', '132171.80202956122', '132478.2094749786', '132909.96285872173', '133399.29204604976', '133764.66663526875', '134077.92851564332', '134390.13798631844', '134750.47009322597', '135112.1321014536', '135617.02981091608', '136258.6452744284', '137019.03847143424', '137740.92852087016', '138564.84680216297', '139547.9988677639', '140491.53007801351', '141406.24917775826', '142120.1997122805', '142934.26164880782', '143679.93552588654', '144516.47055505353', '145498.940338065', '146607.9467245552', '147726.74088511267', '148699.26051886496', '149684.39967726718', '150684.59174193113', '151823.61606986218', '152847.89015485992', '153750.9717477266', '154391.25314312533', '155200.4429159071', '156147.16590803151', '157331.89378016195', '158559.6782862992', '159760.00498271163', '160883.27088696175', '161957.96619210488', '163028.46306296616', '164141.4933623886', '165302.67324830923', '166486.68275334404', '167679.69426441065', '168730.30763225086', '169819.92640894113', '170986.73749679315', '172203.88691040446', '173101.42651009417', '173955.43190388542', '174779.5718832343', '175761.94682979825', '176580.85841501353', '177377.1164948355', '178287.54432896222', '179291.5145155886', '180421.07721655467', '181506.48083824155', '182574.39328567506', '183527.85747980126', '184544.60733175944', '185670.11301657403', '186683.5614892982', '187596.97731882372', '188303.98644078014', '189053.4955192462', '189814.54039644284', '190722.1614934491', '191721.66636668038', '192831.3889807096', '193931.84095748546', '194933.1385378607', '196105.98972596912', '197203.35469880202', '198347.7981484549', '199216.9352879578', '200210.41075712713', '201104.1524424261', '201986.04776403005', '202658.64418437562', '203421.34589176826', '204269.40840281176', '205109.64159560064', '205850.13731803047', '206490.7780049659', '207031.828429952', '207518.00304052097', '207989.6460744649', '208490.06081699603', '209089.86582451625', '209745.28614808977', '210622.6908872444', '211661.57188200587', '212792.77219150026', '213941.21630375655', '215052.26800532205', '216135.83580856977', '216916.98213293395', '217195.90784081715', '217362.85595816848', '218015.4723861696', '219433.14497172102', '221573.23226708057', '223988.55810044953', '226743.15592218048', '229411.97881485385', '232213.71855620024', '235198.05459480468', '238576.95687210094', '242326.7540598867', '246618.01721936747', '251209.4097812005', '255421.60098428305', '258632.48403293142', '260979.71625697947', '263414.55565834773', '266567.0049963912', '270190.6522203104', '274958.0715539185', '280290.09131851705', '286319.3404620486', '292169.0761399937', '297545.9263454944', '302238.9923988283', '305092.59912163834', '305988.420097653', '305328.01157122006', '304383.7485983315', '303387.70376682375', '302107.85013078275', '300419.1658495417', '298813.31726269325', '297741.50910454063', '297371.64882667986', '297691.21670321404', '298520.3764724753', '299267.11050192587', '299846.5848115864', '299884.498335656', '299654.3838471279', '299166.0208531806', '298562.7916413898', '298364.5567666436', '298623.8831722934']\n",
      "['14', '2', 'Florida', 'state', '', '105986.02019297334', '106215.59577862362', '106493.88715018383', '107059.58193059488', '107669.62279119343', '108292.0610166135', '108917.45918905277', '109554.39516063035', '110214.5838248072', '110888.5334249031', '111588.8783384981', '112311.22435659135', '112971.71726622415', '113627.91767727035', '114313.88759605685', '115124.18398253877', '116011.70291666781', '116938.12959563569', '117934.0652350411', '118989.69014735326', '120084.07023872556', '121181.45327131497', '122233.88577269176', '123266.05877106624', '124197.99608800827', '125060.04987175438', '125902.88310086254', '126851.22615731465', '127891.74613208887', '128979.66397113026', '130087.26676000882', '131270.96912283148', '132442.0470310501', '133611.589268784', '134722.6398453228', '135926.34739432702', '137112.98159254034', '138332.4160416247', '139582.89556450816', '140976.11183178073', '142447.72568452414', '143907.90024993234', '145353.51949713062', '146831.60925049346', '148366.05239018204', '149920.61557145143', '151445.62453804156', '152904.71346955982', '154303.54842177048', '155688.79811486707', '157206.4863406203', '158937.05847010767', '160963.07749278398', '163261.30727564133', '165814.51898906627', '168626.25112824724', '171481.38963736178', '174224.23774996508', '176796.83936520174', '179418.30946893487', '182110.15920660738', '184988.6956854641', '188216.12962933883', '192019.98035269088', '196264.49341724408', '200865.74482934424', '205775.9905234922', '210850.9769839904', '215825.08925002068', '220406.16083704657', '224641.63561858438', '228610.2744839289', '232278.58372297543', '235681.9644541043', '239218.84641674123', '243156.582469694', '246932.90012634298', '250094.54426304172', '252264.10710045343', '253688.2843144949', '254284.98969718322', '254258.01890235543', '253876.96639364294', '253114.81274802238', '252150.54336273068', '251108.22773436562', '249910.5756946151', '248527.56411978332', '246726.6990760688', '244475.9405420115', '241764.53674455316', '238767.84538540445', '235699.87685907085', '232562.05560487873', '229281.10502410238', '225953.67224738377', '222338.66107151308', '218770.7525971861', '214960.25670760765', '211249.766794886', '207263.40667487142', '203386.683207728', '199422.9177509242', '195301.87164417343', '191110.83918030036', '186871.7095448661', '182703.58448718511', '178718.4299682931', '174970.24388121717', '171639.7129661624', '168508.67556901314', '165391.0996907717', '162375.09091477242', '159506.0944210007', '157051.28061410997', '154789.5797556196', '152718.86570809627', '150967.01442721955', '149798.9877007733', '148911.30174199564', '148227.96187285485', '147632.90375793105', '147227.5548581653', '146873.63928965857', '146414.76310730798', '145722.79443205518', '144763.7977656451', '143566.236867257', '142258.9307872829', '140891.74797931602', '139507.2250664139', '138187.4962753537', '136868.7002257726', '135618.15675291896', '134340.95145600638', '133105.25460628848', '131871.10781273743', '130755.5263906133', '129727.47614111223', '128918.62631437584', '128310.60033848498', '127962.03543023812', '127783.86132332537', '127702.64590426923', '127730.84918265126', '127850.87425285189', '128042.8675242728', '128400.70323506404', '128863.96554943924', '129491.69784791', '130121.34844346657', '130681.24026703446', '131276.86362121944', '132015.3346695915', '133061.07857578286', '134454.8056746208', '136048.78902984134', '137676.05429776528', '139336.63540141843', '141046.96597972093', '142976.06141631733', '144866.4193555312', '146682.28450766797', '148415.97381725666', '150100.82979072677', '151879.6808317507', '153450.83148642155', '155053.83417213362', '156579.62108294643', '158223.93295652865', '159766.00853161086', '161139.25914074155', '162493.74925674917', '163616.21624436908', '164772.6297879971', '165756.6832918868', '166779.52152696357', '167637.90961033886', '168710.62308030835', '169982.63183283602', '171371.39904606665', '172588.53967829476', '173663.21158167414', '174742.54861910324', '175965.10290373626', '177218.63300950185', '178647.88952485923', '180160.99920737793', '181806.97937390817', '183526.94960376926', '185185.3865304185', '186725.14358706112', '188144.434717827', '189489.78489066684', '190726.46606198652', '192036.40458955697', '193332.70203985684', '194718.4573286973', '195934.8714943781', '197195.22672781846', '198611.01001225482', '200185.9720411212', '201627.63642527533', '202823.2566870671', '203870.88063366569', '205043.3880498995', '206412.2016139963', '207866.48741236664', '209140.19347003676', '210453.76564677045', '211701.7755472297', '213110.80402564607', '214475.5394544866', '215939.03422634793', '217445.1069760601', '219021.88437730467', '220424.314532017', '221656.00722395253', '222894.99492250336', '224122.88319104095', '225396.3527556879', '226469.09138850146', '227859.71220509658', '229218.1954106707', '230597.6894559219', '231732.93807891686', '232938.4448992719', '234241.2759025961', '235416.99686533093', '236471.992227791', '237185.39255738887', '237700.51188283556', '237977.37460926734', '238378.49147241728', '238897.1414620939', '239604.4716306428', '240307.64389047283', '241239.4725826649', '242513.99830185575', '244084.7457267592', '245987.76941101326', '247780.6677104692', '249355.86982469657', '250313.99970052336', '250578.23578784367', '250710.7321432808', '251276.66929125375', '252836.69752505227', '255338.75433473763', '258299.48301745104', '261775.6885313374', '265230.73734943947', '268806.65572100563', '272369.2730873418', '276176.22116985644', '280409.75026553695', '285532.9943688933', '291805.1526750127', '298228.1424532016', '303942.3024976014', '308572.39055081405', '313131.11896956427', '318230.84268883633', '323743.35484343435', '330663.4675418938', '338712.4265961502', '348212.78128178907', '358203.2875831339', '367778.10214454524', '376288.9324513736', '382063.6271716452', '384986.55995838623', '385360.31200829375', '384882.7344788503', '384183.47826505447', '383346.2825868584', '382012.6452044206', '380883.3558081642', '380424.0446318411', '380864.71913455805', '381907.40657642763', '383565.65569710865', '385252.0541837695', '386923.2575014865', '388085.482946359', '389138.5435157902', '390061.8512676596', '390885.88113220036', '391584.8026576868', '392305.5572177538']\n",
      "['43', '3', 'New York', 'state', '', '150566.75382550523', '151102.91937239777', '151619.0651762379', '152729.15448737657', '153877.70010260373', '155119.59554032778', '156236.05513001987', '157213.32582010713', '158081.72467745005', '159012.53400476367', '160152.8394279378', '161404.53450324287', '162605.09593755275', '163604.2812604087', '164505.48037706895', '165446.36885766682', '166485.49171482478', '167632.43340939956', '168836.55123702675', '170100.51224436171', '171336.72129442467', '172637.87544129734', '173999.96050528582', '175446.2249302677', '176874.145449226', '178170.49038903462', '179269.91386520257', '180353.69260214348', '181509.00830673077', '182850.50931188', '184291.51772374392', '185900.57194844916', '187558.4151411416', '189211.2972503812', '190817.39239188202', '192480.50736318916', '194104.9797772833', '195685.40831807078', '197371.97637046498', '199033.73109886388', '200734.2881964672', '202420.79126189472', '204190.00322935145', '206198.5754275225', '208373.28235241325', '210611.36914423318', '212568.52590701394', '214323.88207046347', '216032.56695895307', '217651.8669926204', '219009.19149140254', '220358.09824115995', '221945.75167374895', '223904.53908789807', '226107.3744786262', '228373.52271664192', '230759.43936873358', '233103.98377837552', '235479.59943405478', '237750.04871768996', '239914.42072919154', '242023.07626628262', '243963.266545261', '246010.9267803137', '248185.28891639315', '250432.02612569727', '252796.2312728481', '255267.77499392352', '257862.70175656522', '260503.34016976823', '262890.3898336662', '265269.0075218234', '267348.1628019395', '269250.05108449864', '270820.3232648414', '272184.2161728964', '273472.53620185424', '274803.1180126598', '276048.5476161227', '277162.7544054684', '277882.5883478387', '278411.43942321383', '278717.2651452891', '279042.2959328668', '279313.4759340488', '279534.5023713634', '279827.51470676786', '279947.3320421398', '280176.9818189157', '280212.09270082554', '280268.1236847888', '280345.6024687195', '280351.536623644', '280554.97645207174', '280759.8561815046', '280871.1242795772', '280939.9338355707', '280802.4542617209', '280645.67916748277', '280288.77777678333', '279692.00773672556', '278877.4397796813', '277797.94617716165', '276630.3686456931', '275325.40798552526', '273757.1559176077', '272040.31993377116', '270394.07671386196', '268871.3381961479', '267560.95977789606', '266399.3948739855', '265410.1983242782', '264500.998530197', '263513.63278799393', '262490.30736893165', '261385.6788893584', '260455.28085605334', '259735.37196065905', '259275.31109435298', '258966.65130294615', '258741.54101953146', '258723.21075327773', '258800.99817905025', '259191.12091673526', '259608.32941004864', '260166.33759748182', '260523.49149080415', '260437.14658881383', '259897.09357283148', '258921.08604801414', '257899.81903004696', '256864.9908051821', '256134.99454572995', '255574.97313984542', '255230.38709813086', '254767.2538495535', '254270.695266961', '253530.69529062198', '252806.75112409482', '252099.75435398426', '251454.4343564204', '250811.88014066932', '250112.41845082902', '249520.93835421177', '249000.51291655118', '248793.9042211035', '248982.2712265368', '249375.3751372228', '249865.72217946008', '250225.12421752783', '250558.76514734558', '250570.1493040598', '250597.0495265336', '250436.28322624156', '250421.16738913197', '250395.56936796452', '250796.56544623585', '251463.48305553212', '252248.8692026415', '252990.45618253562', '253830.1940047952', '254996.82943756157', '256159.3154893549', '257203.2797701379', '257958.08557149264', '258759.29070578015', '259423.2003239908', '259871.61467729392', '260256.914920425', '260784.76599563262', '261753.9992138944', '262882.1782520411', '264223.3673534741', '265148.47898100875', '265909.8568603835', '266362.579473411', '266970.0735959388', '267441.20092207805', '268088.315146504', '268640.5619120031', '269054.2312154688', '269298.0946044873', '269545.7125136561', '269995.10566006036', '270802.096621714', '271686.5881448951', '272787.66965508414', '274108.4471644524', '275855.20558115124', '277744.3571928805', '279288.1285589419', '280539.25949379517', '281424.5427147601', '282116.1486954105', '282429.17474885914', '282988.59165313997', '283846.85829893936', '285177.91234908183', '286272.1607850143', '287055.2630616195', '287657.8936073525', '288497.0009825242', '289793.3837070581', '291583.64558871597', '293224.81355439755', '294957.25793961855', '296486.4195985194', '298546.83506043715', '300206.25073395524', '301663.4295195531', '302738.2221575548', '304068.6915991685', '305419.3924464877', '307107.3214329114', '308476.2022802425', '310004.1634480638', '311384.4224983154', '312489.9655097188', '313930.2716321494', '315540.6630618767', '317883.69917090563', '319998.1494041767', '322385.6648270744', '324714.0384516272', '327102.62460858637', '328684.7750674789', '329810.1988211746', '330470.4453933283', '331544.1855918542', '333056.62074786547', '334696.2434787958', '336075.6481578443', '336863.69743932894', '337825.4284722674', '338805.9657114533', '339979.0709126314', '340620.3620748669', '341343.4491898532', '342787.56227911945', '344624.34477831563', '346888.53561449127', '348614.69269157376', '350203.45809115935', '351523.07760610915', '352671.1800289761', '353291.8353916726', '353467.6203853169', '353870.67606840906', '355902.29838434834', '359232.33596162166', '363633.2086668695', '368487.57501055737', '373082.8108407613', '377878.0186260397', '382358.60091831355', '386521.59792297304', '390683.3404109019', '394581.17158553394', '398024.8456639712', '400124.28775427234', '401162.1778843139', '402661.57688463246', '404915.77080233063', '407580.29706657137', '410719.09308528015', '414524.3469779193', '419603.0066985529', '424799.42833642033', '429542.26251531555', '434080.3051330606', '437141.2169913125', '438058.1081102481', '436505.62716942537', '434695.083938267', '433155.06846857024', '431588.3835889514', '429948.62371545914', '428586.3157330244', '428679.5424540634', '430156.3242539734', '432573.305664103', '435414.0031076716', '438426.1913367317', '441487.51591727976', '444085.40793947433', '445927.0168235453', '447464.95191034395', '449149.0956844648', '450934.0465950298', '453138.40205270913']\n",
      "['47', '4', 'Pennsylvania', 'state', '', '96332.76581412586', '96538.81430476473', '96732.44453761746', '97127.03352976462', '97532.37522507481', '97948.95682894817', '98391.34079936938', '98813.64419910497', '99243.93178638314', '99656.59338437747', '100111.83965174861', '100582.72562529768', '101047.52124500454', '101472.49598208081', '101899.93328650513', '102358.56839398756', '102797.49165428647', '103244.37376341445', '103725.17074968592', '104254.80395494688', '104790.86872284219', '105283.45997281336', '105783.66005175009', '106256.80873441203', '106727.57912609384', '107193.82896603919', '107679.96366935178', '108214.92277888065', '108799.45868077676', '109443.04628802497', '110163.32665152807', '110976.25955392614', '111819.86979175471', '112646.35339413874', '113357.31278832164', '114033.65692002191', '114681.52666450331', '115333.19903811009', '115956.0792176732', '116614.6187741318', '117420.70070425617', '118394.30647232877', '119463.63239158828', '120494.94788667954', '121506.90293815418', '122463.49691990523', '123330.40117893556', '124102.54951970866', '124787.32538219746', '125576.09706469519', '126368.79682832652', '127249.36940712319', '128285.7737207865', '129509.14815776124', '130945.32120800011', '132348.58825197114', '133749.87593387623', '134970.29831303807', '136204.99878987946', '137410.88755350932', '138653.19290549625', '139661.0226545358', '140626.01758353336', '141675.86295446692', '142939.70488029753', '144401.79524985803', '145966.24538670204', '147605.50307055702', '149145.88948921897', '150550.50797288466', '151839.2424114302', '153048.84438339653', '154122.39186533715', '155058.2210498945', '155936.45994793667', '156865.87647475352', '157905.9213256037', '159044.7856669255', '160099.0556884973', '160952.13289863605', '161546.78555094718', '162009.7765609287', '162379.77871149732', '162692.00310297403', '163007.86095139405', '163385.35717440283', '163859.03208891625', '164296.2415335472', '164716.61043043653', '165036.4636142699', '165381.4052512812', '165628.96855552678', '165753.49966858883', '165835.1033611131', '165939.3912206371', '166021.44018233175', '165978.65994728488', '165948.61881784978', '165883.40324377798', '165838.03229972027', '165637.44002236388', '165317.34067540173', '164748.02248418928', '164006.96844692482', '163225.12541357632', '162546.42933494717', '161907.56995564938', '161218.95580730215', '160516.62048569034', '160055.14551718114', '159827.15504119475', '159689.83981110004', '159450.99402596458', '159123.36028841365', '158764.98185725542', '158343.5044654477', '157945.24646977524', '157673.68920227134', '157618.63135724975', '157704.12555671186', '157947.66986105894', '158287.22445040417', '158759.16323353464', '159217.79839009518', '159518.72388590983', '159571.7578610115', '159328.6113183117', '158866.70797251622', '158178.66730758912', '157366.24254769436', '156472.95054590178', '155629.91003301935', '154897.02360360266', '154303.16804717857', '153850.44653438445', '153366.57634303017', '152806.97293814193', '152092.5153568158', '151379.13684101147', '150786.76610900828', '150361.8458194922', '150013.14634565197', '149664.2137391756', '149324.316591701', '149028.88693428424', '148963.62331245435', '149278.17536451656', '149742.98177463663', '150186.67438407755', '150365.78057722785', '150440.2491949693', '150319.21714894753', '150199.68941202518', '150024.3119228081', '149895.35524176116', '149809.93157504112', '149804.20077412954', '149824.8783799619', '150052.3443850776', '150477.88769934222', '151107.6394446194', '151638.91776983236', '151795.53601640157', '151850.17825313204', '151781.57493584274', '151994.20039605253', '152146.83582500523', '152354.26610189732', '152491.1875811614', '152587.10073223457', '152682.60684295578', '152921.70644338185', '153358.5812120465', '153820.37381092945', '154300.78548315578', '154537.06591128933', '154559.40163101934', '154235.78163977052', '154033.24698258797', '154014.95502127826', '154092.72348273455', '154143.56968625894', '154330.60834416383', '154741.315410432', '155321.2771853154', '155838.65065962018', '156454.61877649894', '157162.29804820733', '157855.16922521207', '158378.10036393153', '158642.5005745102', '158994.0204784599', '159472.13352618393', '159961.96993861595', '160002.38835258767', '159995.31874688916', '160188.80875453574', '160682.14822487833', '161067.58364072983', '161454.40207432266', '161942.40984536827', '162563.42856598014', '163131.76621556852', '163773.08856207214', '164334.08709249072', '164831.30109161887', '165211.8885258877', '165653.9549499425', '166117.77430143545', '166604.33370316972', '167114.33203852817', '167673.5352249598', '168298.66139982952', '169058.85496201573', '169960.72210280682', '170865.14477067927', '171673.42120971877', '172379.007315242', '173355.94553449049', '174283.90955655812', '175020.9683066661', '175385.0654318408', '175765.3272127868', '176202.84375304639', '176621.11780796386', '176863.61692912653', '177136.69974507872', '177504.3756272143', '178158.19279264208', '179141.5725702948', '180175.96219522282', '181011.53266596686', '181560.38749581474', '182159.33174245743', '182834.66448441605', '183543.5324028647', '184186.89957844073', '184997.610213155', '186029.59888543366', '187148.80263289227', '188253.84299228515', '189412.00227347008', '190654.86493600663', '192017.76958528566', '192844.55283382194', '193186.38420181195', '193483.7469419253', '194478.77551178844', '196595.70547600358', '199254.77413789128', '202436.34045508807', '205431.29196153954', '208188.7113274996', '210880.3144935949', '213682.03886376982', '216555.31196829583', '219441.1886537598', '222466.7018214952', '224661.45727489397', '225513.92905586582', '224774.27366091244', '224184.20016831323', '224289.5143921943', '225236.9339176216', '227530.76693228856', '230895.80841040527', '235106.40143312115', '238922.75169714433', '241871.00212606808', '244173.04168635953', '245058.38618516256', '244851.6752303714', '243906.8442763466', '243612.8151609554', '243808.75545741813', '244013.91873847845', '243834.89910668554', '243450.51948601767', '243602.53329057104', '244405.44253287264', '245913.80200347144', '247702.16825057426', '249442.19867248833', '251109.62375385078', '252410.5855223123', '253291.424667522', '253820.68525080025', '254254.3876349486', '254753.3179876405', '255570.1622323777']\n",
      "csv month data length 290\n",
      "storm df length: 287\n"
     ]
    }
   ],
   "source": [
    "# previewing our real estate data\n",
    "\n",
    "# since the data is formatted a bit weirdly, I think this is the easiest way to process everything\n",
    "import csv\n",
    "\n",
    "re_csv_path = os.path.join(\"Resources_RealEstate\", \"State_zhvi_uc_sfrcondo_tier_0.33_0.67_sm_sa_month.csv\")\n",
    "\n",
    "with open(re_csv_path) as csvfile:\n",
    "    reader = csv.reader(csvfile, delimiter=',')\n",
    "    \n",
    "    # drop header\n",
    "    for i in range(6):\n",
    "        print(next(reader))\n",
    "    \n",
    "    print(\"csv month data length\", len(next(reader)[5:]))\n",
    "\n",
    "\n",
    "\n",
    "print(\"storm df length:\", len(agg_storm_df))"
   ]
  },
  {
   "cell_type": "code",
   "execution_count": 19,
   "metadata": {},
   "outputs": [
    {
     "data": {
      "text/html": [
       "<div>\n",
       "<style scoped>\n",
       "    .dataframe tbody tr th:only-of-type {\n",
       "        vertical-align: middle;\n",
       "    }\n",
       "\n",
       "    .dataframe tbody tr th {\n",
       "        vertical-align: top;\n",
       "    }\n",
       "\n",
       "    .dataframe thead th {\n",
       "        text-align: right;\n",
       "    }\n",
       "</style>\n",
       "<table border=\"1\" class=\"dataframe\">\n",
       "  <thead>\n",
       "    <tr style=\"text-align: right;\">\n",
       "      <th></th>\n",
       "      <th>STATE</th>\n",
       "      <th>MONTH</th>\n",
       "      <th>ZHVI</th>\n",
       "    </tr>\n",
       "  </thead>\n",
       "  <tbody>\n",
       "    <tr>\n",
       "      <th>0</th>\n",
       "      <td>California</td>\n",
       "      <td>2000-01</td>\n",
       "      <td>190252.3290963135</td>\n",
       "    </tr>\n",
       "    <tr>\n",
       "      <th>1</th>\n",
       "      <td>California</td>\n",
       "      <td>2000-02</td>\n",
       "      <td>190891.8239611473</td>\n",
       "    </tr>\n",
       "    <tr>\n",
       "      <th>2</th>\n",
       "      <td>California</td>\n",
       "      <td>2000-03</td>\n",
       "      <td>191755.29862276258</td>\n",
       "    </tr>\n",
       "    <tr>\n",
       "      <th>3</th>\n",
       "      <td>California</td>\n",
       "      <td>2000-04</td>\n",
       "      <td>193629.64465037093</td>\n",
       "    </tr>\n",
       "    <tr>\n",
       "      <th>4</th>\n",
       "      <td>California</td>\n",
       "      <td>2000-05</td>\n",
       "      <td>195808.28955393317</td>\n",
       "    </tr>\n",
       "  </tbody>\n",
       "</table>\n",
       "</div>"
      ],
      "text/plain": [
       "        STATE    MONTH                ZHVI\n",
       "0  California  2000-01   190252.3290963135\n",
       "1  California  2000-02   190891.8239611473\n",
       "2  California  2000-03  191755.29862276258\n",
       "3  California  2000-04  193629.64465037093\n",
       "4  California  2000-05  195808.28955393317"
      ]
     },
     "execution_count": 19,
     "metadata": {},
     "output_type": "execute_result"
    }
   ],
   "source": [
    "# parsing the data for our real estate DF\n",
    "\n",
    "# headers containing state name\n",
    "state_hdrs = []\n",
    "# real estate data\n",
    "re_data = pd.DataFrame(columns=[\"STATE\", \"MONTH\", \"ZHVI\"])\n",
    "\n",
    "with open(re_csv_path) as csvfile:\n",
    "    reader = csv.reader(csvfile, delimiter=',')\n",
    "    \n",
    "    # drop header\n",
    "    csv_headers = next(reader)\n",
    "    for row in reader:\n",
    "        state_hdrs.append(row[2])\n",
    "        # iterate over rest of row\n",
    "        for i in np.arange(5, len(row), 1):\n",
    "            # print(i)\n",
    "            re_data = pd.concat([re_data, pd.DataFrame({\"STATE\": [row[2]], \"MONTH\": [csv_headers[i][:7]], \"ZHVI\": [row[i]]})], ignore_index=True)\n",
    "\n",
    "re_data.head()"
   ]
  },
  {
   "cell_type": "code",
   "execution_count": 20,
   "metadata": {},
   "outputs": [
    {
     "name": "stdout",
     "output_type": "stream",
     "text": [
      "<class 'pandas.core.frame.DataFrame'>\n",
      "RangeIndex: 14790 entries, 0 to 14789\n",
      "Data columns (total 3 columns):\n",
      " #   Column  Non-Null Count  Dtype \n",
      "---  ------  --------------  ----- \n",
      " 0   STATE   14790 non-null  object\n",
      " 1   MONTH   14790 non-null  object\n",
      " 2   ZHVI    14790 non-null  object\n",
      "dtypes: object(3)\n",
      "memory usage: 346.8+ KB\n"
     ]
    },
    {
     "data": {
      "text/plain": [
       "14790"
      ]
     },
     "execution_count": 20,
     "metadata": {},
     "output_type": "execute_result"
    }
   ],
   "source": [
    "re_data.info()\n",
    "\n",
    "len(re_data)"
   ]
  },
  {
   "cell_type": "code",
   "execution_count": 21,
   "metadata": {},
   "outputs": [
    {
     "name": "stdout",
     "output_type": "stream",
     "text": [
      "2000-01 to 2024-02\n"
     ]
    }
   ],
   "source": [
    "print(re_data[\"MONTH\"].min(), \"to\", re_data[\"MONTH\"].max())"
   ]
  },
  {
   "cell_type": "code",
   "execution_count": 22,
   "metadata": {},
   "outputs": [
    {
     "name": "stdout",
     "output_type": "stream",
     "text": [
      "<class 'pandas.core.frame.DataFrame'>\n",
      "Index: 14688 entries, 0 to 14787\n",
      "Data columns (total 3 columns):\n",
      " #   Column  Non-Null Count  Dtype \n",
      "---  ------  --------------  ----- \n",
      " 0   STATE   14688 non-null  object\n",
      " 1   MONTH   14688 non-null  object\n",
      " 2   ZHVI    14688 non-null  object\n",
      "dtypes: object(3)\n",
      "memory usage: 459.0+ KB\n"
     ]
    },
    {
     "data": {
      "text/plain": [
       "'2023-12'"
      ]
     },
     "execution_count": 22,
     "metadata": {},
     "output_type": "execute_result"
    }
   ],
   "source": [
    "re_data = re_data.loc[re_data[\"MONTH\"].astype('datetime64[s]') < dt.datetime(2024, 1, 1), :]\n",
    "\n",
    "re_data.info()\n",
    "re_data[\"MONTH\"].max()"
   ]
  },
  {
   "cell_type": "code",
   "execution_count": 23,
   "metadata": {},
   "outputs": [
    {
     "data": {
      "text/plain": [
       "STATE    228\n",
       "MONTH    228\n",
       "ZHVI     228\n",
       "dtype: int64"
      ]
     },
     "execution_count": 23,
     "metadata": {},
     "output_type": "execute_result"
    }
   ],
   "source": [
    "re_data.loc[re_data[\"ZHVI\"] == \"\", :].count()"
   ]
  },
  {
   "cell_type": "code",
   "execution_count": 24,
   "metadata": {},
   "outputs": [
    {
     "data": {
      "text/html": [
       "<div>\n",
       "<style scoped>\n",
       "    .dataframe tbody tr th:only-of-type {\n",
       "        vertical-align: middle;\n",
       "    }\n",
       "\n",
       "    .dataframe tbody tr th {\n",
       "        vertical-align: top;\n",
       "    }\n",
       "\n",
       "    .dataframe thead th {\n",
       "        text-align: right;\n",
       "    }\n",
       "</style>\n",
       "<table border=\"1\" class=\"dataframe\">\n",
       "  <thead>\n",
       "    <tr style=\"text-align: right;\">\n",
       "      <th></th>\n",
       "      <th>STATE</th>\n",
       "      <th>MONTH</th>\n",
       "      <th>ZHVI</th>\n",
       "    </tr>\n",
       "  </thead>\n",
       "  <tbody>\n",
       "    <tr>\n",
       "      <th>283</th>\n",
       "      <td>Texas</td>\n",
       "      <td>2023-08</td>\n",
       "      <td>299846.5848115864</td>\n",
       "    </tr>\n",
       "    <tr>\n",
       "      <th>284</th>\n",
       "      <td>Texas</td>\n",
       "      <td>2023-09</td>\n",
       "      <td>299884.498335656</td>\n",
       "    </tr>\n",
       "    <tr>\n",
       "      <th>285</th>\n",
       "      <td>Texas</td>\n",
       "      <td>2023-10</td>\n",
       "      <td>299654.3838471279</td>\n",
       "    </tr>\n",
       "    <tr>\n",
       "      <th>286</th>\n",
       "      <td>Texas</td>\n",
       "      <td>2023-11</td>\n",
       "      <td>299166.0208531806</td>\n",
       "    </tr>\n",
       "    <tr>\n",
       "      <th>287</th>\n",
       "      <td>Texas</td>\n",
       "      <td>2023-12</td>\n",
       "      <td>298562.7916413898</td>\n",
       "    </tr>\n",
       "  </tbody>\n",
       "</table>\n",
       "</div>"
      ],
      "text/plain": [
       "     STATE    MONTH               ZHVI\n",
       "283  Texas  2023-08  299846.5848115864\n",
       "284  Texas  2023-09   299884.498335656\n",
       "285  Texas  2023-10  299654.3838471279\n",
       "286  Texas  2023-11  299166.0208531806\n",
       "287  Texas  2023-12  298562.7916413898"
      ]
     },
     "execution_count": 24,
     "metadata": {},
     "output_type": "execute_result"
    }
   ],
   "source": [
    "re_data_tex = re_data.loc[re_data[\"STATE\"] == \"Texas\", :].reset_index(drop=True)\n",
    "re_data_tex.tail()"
   ]
  },
  {
   "cell_type": "code",
   "execution_count": 25,
   "metadata": {},
   "outputs": [
    {
     "name": "stdout",
     "output_type": "stream",
     "text": [
      "<class 'pandas.core.frame.DataFrame'>\n",
      "RangeIndex: 288 entries, 0 to 287\n",
      "Data columns (total 3 columns):\n",
      " #   Column  Non-Null Count  Dtype    \n",
      "---  ------  --------------  -----    \n",
      " 0   STATE   288 non-null    object   \n",
      " 1   MONTH   288 non-null    period[M]\n",
      " 2   ZHVI    288 non-null    float64  \n",
      "dtypes: float64(1), object(1), period[M](1)\n",
      "memory usage: 6.9+ KB\n"
     ]
    }
   ],
   "source": [
    "re_data_tex[\"MONTH\"] = re_data_tex[\"MONTH\"].astype(\"period[M]\")\n",
    "re_data_tex[\"ZHVI\"] = re_data_tex[\"ZHVI\"].astype(\"float\")\n",
    "re_data_tex.info()"
   ]
  },
  {
   "cell_type": "code",
   "execution_count": 26,
   "metadata": {},
   "outputs": [
    {
     "data": {
      "text/html": [
       "<div>\n",
       "<style scoped>\n",
       "    .dataframe tbody tr th:only-of-type {\n",
       "        vertical-align: middle;\n",
       "    }\n",
       "\n",
       "    .dataframe tbody tr th {\n",
       "        vertical-align: top;\n",
       "    }\n",
       "\n",
       "    .dataframe thead th {\n",
       "        text-align: right;\n",
       "    }\n",
       "</style>\n",
       "<table border=\"1\" class=\"dataframe\">\n",
       "  <thead>\n",
       "    <tr style=\"text-align: right;\">\n",
       "      <th></th>\n",
       "      <th>STATE</th>\n",
       "      <th>ZHVI</th>\n",
       "    </tr>\n",
       "    <tr>\n",
       "      <th>MONTH</th>\n",
       "      <th></th>\n",
       "      <th></th>\n",
       "    </tr>\n",
       "  </thead>\n",
       "  <tbody>\n",
       "    <tr>\n",
       "      <th>2000-01</th>\n",
       "      <td>Texas</td>\n",
       "      <td>110404.230186</td>\n",
       "    </tr>\n",
       "    <tr>\n",
       "      <th>2000-02</th>\n",
       "      <td>Texas</td>\n",
       "      <td>110464.226696</td>\n",
       "    </tr>\n",
       "    <tr>\n",
       "      <th>2000-03</th>\n",
       "      <td>Texas</td>\n",
       "      <td>110493.325944</td>\n",
       "    </tr>\n",
       "    <tr>\n",
       "      <th>2000-04</th>\n",
       "      <td>Texas</td>\n",
       "      <td>110637.748090</td>\n",
       "    </tr>\n",
       "    <tr>\n",
       "      <th>2000-05</th>\n",
       "      <td>Texas</td>\n",
       "      <td>110731.278136</td>\n",
       "    </tr>\n",
       "  </tbody>\n",
       "</table>\n",
       "</div>"
      ],
      "text/plain": [
       "         STATE           ZHVI\n",
       "MONTH                        \n",
       "2000-01  Texas  110404.230186\n",
       "2000-02  Texas  110464.226696\n",
       "2000-03  Texas  110493.325944\n",
       "2000-04  Texas  110637.748090\n",
       "2000-05  Texas  110731.278136"
      ]
     },
     "execution_count": 26,
     "metadata": {},
     "output_type": "execute_result"
    }
   ],
   "source": [
    "re_data_tex = re_data_tex.set_index(\"MONTH\")\n",
    "re_data_tex.head()"
   ]
  },
  {
   "cell_type": "code",
   "execution_count": 27,
   "metadata": {},
   "outputs": [
    {
     "name": "stdout",
     "output_type": "stream",
     "text": [
      "<class 'pandas.core.frame.DataFrame'>\n",
      "PeriodIndex: 288 entries, 2000-01 to 2023-12\n",
      "Freq: M\n",
      "Data columns (total 3 columns):\n",
      " #   Column           Non-Null Count  Dtype  \n",
      "---  ------           --------------  -----  \n",
      " 0   ZHVI             288 non-null    float64\n",
      " 1   DAMAGE_PROPERTY  287 non-null    float64\n",
      " 2   EVENT_COUNT      287 non-null    float64\n",
      "dtypes: float64(3)\n",
      "memory usage: 17.1 KB\n"
     ]
    },
    {
     "data": {
      "text/html": [
       "<div>\n",
       "<style scoped>\n",
       "    .dataframe tbody tr th:only-of-type {\n",
       "        vertical-align: middle;\n",
       "    }\n",
       "\n",
       "    .dataframe tbody tr th {\n",
       "        vertical-align: top;\n",
       "    }\n",
       "\n",
       "    .dataframe thead th {\n",
       "        text-align: right;\n",
       "    }\n",
       "</style>\n",
       "<table border=\"1\" class=\"dataframe\">\n",
       "  <thead>\n",
       "    <tr style=\"text-align: right;\">\n",
       "      <th></th>\n",
       "      <th>ZHVI</th>\n",
       "      <th>DAMAGE_PROPERTY</th>\n",
       "      <th>EVENT_COUNT</th>\n",
       "    </tr>\n",
       "    <tr>\n",
       "      <th>MONTH</th>\n",
       "      <th></th>\n",
       "      <th></th>\n",
       "      <th></th>\n",
       "    </tr>\n",
       "  </thead>\n",
       "  <tbody>\n",
       "    <tr>\n",
       "      <th>2000-01</th>\n",
       "      <td>110404.230186</td>\n",
       "      <td>0.0</td>\n",
       "      <td>76.0</td>\n",
       "    </tr>\n",
       "    <tr>\n",
       "      <th>2000-02</th>\n",
       "      <td>110464.226696</td>\n",
       "      <td>20889000.0</td>\n",
       "      <td>177.0</td>\n",
       "    </tr>\n",
       "    <tr>\n",
       "      <th>2000-03</th>\n",
       "      <td>110493.325944</td>\n",
       "      <td>14542700.0</td>\n",
       "      <td>731.0</td>\n",
       "    </tr>\n",
       "    <tr>\n",
       "      <th>2000-04</th>\n",
       "      <td>110637.748090</td>\n",
       "      <td>17291500.0</td>\n",
       "      <td>616.0</td>\n",
       "    </tr>\n",
       "    <tr>\n",
       "      <th>2000-05</th>\n",
       "      <td>110731.278136</td>\n",
       "      <td>54610700.0</td>\n",
       "      <td>635.0</td>\n",
       "    </tr>\n",
       "  </tbody>\n",
       "</table>\n",
       "</div>"
      ],
      "text/plain": [
       "                  ZHVI  DAMAGE_PROPERTY  EVENT_COUNT\n",
       "MONTH                                               \n",
       "2000-01  110404.230186              0.0         76.0\n",
       "2000-02  110464.226696       20889000.0        177.0\n",
       "2000-03  110493.325944       14542700.0        731.0\n",
       "2000-04  110637.748090       17291500.0        616.0\n",
       "2000-05  110731.278136       54610700.0        635.0"
      ]
     },
     "execution_count": 27,
     "metadata": {},
     "output_type": "execute_result"
    }
   ],
   "source": [
    "agg_storm_df = agg_storm_df.rename(columns={\"BEGIN_MONTH\": \"MONTH\"})\n",
    "\n",
    "\n",
    "# merging dfs together\n",
    "re_storm_data = pd.merge(re_data_tex, agg_storm_df, how=\"left\", left_index=True, right_index=True).drop(columns=[\"STATE\"])\n",
    "\n",
    "re_storm_data.info()\n",
    "re_storm_data.head()"
   ]
  },
  {
   "cell_type": "code",
   "execution_count": 28,
   "metadata": {},
   "outputs": [
    {
     "data": {
      "text/plain": [
       "Period('2023-12', 'M')"
      ]
     },
     "execution_count": 28,
     "metadata": {},
     "output_type": "execute_result"
    }
   ],
   "source": [
    "re_storm_data.index.max()"
   ]
  },
  {
   "cell_type": "code",
   "execution_count": 29,
   "metadata": {},
   "outputs": [
    {
     "data": {
      "text/html": [
       "<div>\n",
       "<style scoped>\n",
       "    .dataframe tbody tr th:only-of-type {\n",
       "        vertical-align: middle;\n",
       "    }\n",
       "\n",
       "    .dataframe tbody tr th {\n",
       "        vertical-align: top;\n",
       "    }\n",
       "\n",
       "    .dataframe thead th {\n",
       "        text-align: right;\n",
       "    }\n",
       "</style>\n",
       "<table border=\"1\" class=\"dataframe\">\n",
       "  <thead>\n",
       "    <tr style=\"text-align: right;\">\n",
       "      <th></th>\n",
       "      <th>ZHVI</th>\n",
       "      <th>DAMAGE_PROPERTY</th>\n",
       "      <th>EVENT_COUNT</th>\n",
       "    </tr>\n",
       "    <tr>\n",
       "      <th>MONTH</th>\n",
       "      <th></th>\n",
       "      <th></th>\n",
       "      <th></th>\n",
       "    </tr>\n",
       "  </thead>\n",
       "  <tbody>\n",
       "    <tr>\n",
       "      <th>2000-01</th>\n",
       "      <td>110404.230186</td>\n",
       "      <td>0.0</td>\n",
       "      <td>76.0</td>\n",
       "    </tr>\n",
       "    <tr>\n",
       "      <th>2003-01</th>\n",
       "      <td>117550.763021</td>\n",
       "      <td>0.0</td>\n",
       "      <td>26.0</td>\n",
       "    </tr>\n",
       "    <tr>\n",
       "      <th>2017-11</th>\n",
       "      <td>191721.666367</td>\n",
       "      <td>0.0</td>\n",
       "      <td>31.0</td>\n",
       "    </tr>\n",
       "    <tr>\n",
       "      <th>2019-12</th>\n",
       "      <td>212792.772192</td>\n",
       "      <td>0.0</td>\n",
       "      <td>56.0</td>\n",
       "    </tr>\n",
       "  </tbody>\n",
       "</table>\n",
       "</div>"
      ],
      "text/plain": [
       "                  ZHVI  DAMAGE_PROPERTY  EVENT_COUNT\n",
       "MONTH                                               \n",
       "2000-01  110404.230186              0.0         76.0\n",
       "2003-01  117550.763021              0.0         26.0\n",
       "2017-11  191721.666367              0.0         31.0\n",
       "2019-12  212792.772192              0.0         56.0"
      ]
     },
     "execution_count": 29,
     "metadata": {},
     "output_type": "execute_result"
    }
   ],
   "source": [
    "# checking which months have 0 property damage recorded from storms\n",
    "re_storm_data.loc[re_storm_data[\"DAMAGE_PROPERTY\"] == 0, :]"
   ]
  },
  {
   "cell_type": "markdown",
   "metadata": {},
   "source": [
    "## Real Estate: full data + texas specific data with storms: Write to CSV\n",
    "***"
   ]
  },
  {
   "cell_type": "code",
   "execution_count": 31,
   "metadata": {},
   "outputs": [],
   "source": [
    "re_storm_data.to_csv(os.path.join(\"Resources_Output\", \"data_texas_property_zhvi_and_storm_damage_2000-2023.csv\"))\n",
    "re_data.to_csv(os.path.join(\"Resources_Output\", \"data_zhvi_all_states_2000-2023.csv\"))"
   ]
  },
  {
   "cell_type": "markdown",
   "metadata": {},
   "source": [
    "## Event Type Double Checking"
   ]
  },
  {
   "cell_type": "code",
   "execution_count": null,
   "metadata": {},
   "outputs": [],
   "source": [
    "df[\"EVENT_TYPE\"].value_counts()"
   ]
  },
  {
   "cell_type": "code",
   "execution_count": null,
   "metadata": {},
   "outputs": [],
   "source": [
    "grouped = df.groupby([\"EVENT_TYPE\"])\n",
    "grouped.sum([\"DAMAGE_PROPERTY\"]).drop(columns=[\"BEGIN_LAT\", \"BEGIN_LON\", \"END_LAT\", \"END_LON\"]).sort_values(\"DAMAGE_PROPERTY\", ascending=False)"
   ]
  },
  {
   "cell_type": "code",
   "execution_count": null,
   "metadata": {},
   "outputs": [],
   "source": [
    "df[\"EVENT_TYPE\"].unique()"
   ]
  },
  {
   "cell_type": "code",
   "execution_count": null,
   "metadata": {},
   "outputs": [],
   "source": [
    "category_trans_dict = {\n",
    "    'THUNDERSTORM WINDS/FLOODING': 'Flood',\n",
    "    'HAIL/ICY ROADS': 'Hail',\n",
    "    'HAIL FLOODING': 'Flood',\n",
    "    'THUNDERSTORM WINDS/FLASH FLOOD': 'Flash Flood',\n",
    "    'THUNDERSTORM WINDS LIGHTNING': 'Lightning',\n",
    "    'THUNDERSTORM WIND/ TREES': 'Thunderstorm Wind',\n",
    "    'THUNDERSTORM WIND/ TREE': 'Thunderstorm Wind',\n",
    "    'THUNDERSTORM WINDS FUNNEL CLOU': 'Funnel Cloud',\n",
    "    'TORNADO/WATERSPOUT': 'Waterspout',\n",
    "    'THUNDERSTORM WINDS/HEAVY RAIN': 'Heavy Rain',\n",
    "    'THUNDERSTORM WINDS HEAVY RAIN': 'Heavy Rain',\n",
    "    'THUNDERSTORM WINDS/ FLOOD': 'Flood',\n",
    "}\n",
    "\n",
    "\n",
    "rest_of_cats = ['Tornado', 'Thunderstorm Wind', 'Hail', 'Winter Storm', 'Cold/Wind Chill',\n",
    "       'Heavy Snow', 'Flood', 'High Wind', 'Flash Flood', 'Blizzard',\n",
    "       'Ice Storm', 'Lightning', 'Frost/Freeze', 'Heavy Rain',\n",
    "       'Strong Wind', 'Coastal Flood', 'Wildfire', 'Funnel Cloud',\n",
    "       'Winter Weather', 'Waterspout', 'Drought', 'Debris Flow', 'Heat',\n",
    "       'High Surf', 'Tropical Storm', 'Dust Devil', 'Dense Fog',\n",
    "       'Hurricane (Typhoon)', 'Marine High Wind', 'Dust Storm',\n",
    "       'Storm Surge/Tide', 'Lake-Effect Snow', 'Rip Current', 'Avalanche',\n",
    "       'Seiche', 'Extreme Cold/Wind Chill', 'Excessive Heat', 'Tsunami',\n",
    "       'Sleet', 'Freezing Fog', 'Lakeshore Flood',\n",
    "       'Astronomical Low Tide', 'Tropical Depression', 'Dense Smoke',\n",
    "       'Sneakerwave', 'Hurricane']\n",
    "\n",
    "all_event_transforms = {item: item for item in rest_of_cats}\n",
    "all_event_transforms.update(category_trans_dict)\n",
    "\n",
    "pp(all_event_transforms.keys())"
   ]
  },
  {
   "cell_type": "code",
   "execution_count": null,
   "metadata": {},
   "outputs": [],
   "source": [
    "df[\"EVENT_TYPE\"] = df[\"EVENT_TYPE\"].map(all_event_transforms)\n",
    "\n",
    "df.head()"
   ]
  },
  {
   "cell_type": "code",
   "execution_count": null,
   "metadata": {},
   "outputs": [],
   "source": [
    "# verify remaining categories\n",
    "df[\"EVENT_TYPE\"].unique()"
   ]
  },
  {
   "cell_type": "markdown",
   "metadata": {},
   "source": [
    "### Some Thoughts on Event Type Consolidation\n",
    "***\n",
    "\n",
    "We may want to consider more merges including:\n",
    "\n",
    "Hurricane (Typhoon) -> 'Hurricane'\n",
    "\n",
    "All Floods (except maybe flash floods) -> Flood\n",
    "\n",
    "(storm floods already filtered are a bit ambiguous in this case)\n",
    "\n",
    "**Ideally, we either want to drop unneeded categories or run them through an unsupervised clustering algorithm to bring the total category count down to <10 for easier neural network processing**"
   ]
  },
  {
   "cell_type": "markdown",
   "metadata": {},
   "source": [
    "# One-Hot Encoding, final preprocessing DF\n",
    "***"
   ]
  },
  {
   "cell_type": "code",
   "execution_count": null,
   "metadata": {},
   "outputs": [],
   "source": [
    "# double check the columns to see what we need encoded\n",
    "df.head()"
   ]
  },
  {
   "cell_type": "markdown",
   "metadata": {},
   "source": [
    "Columns to encode: \"REGION\", \"EVENT_TYPE\"\n",
    "\n",
    "Could also be worthwhile to target data with only lat-long info and run clustering there, but that is its own endeavor"
   ]
  },
  {
   "cell_type": "code",
   "execution_count": null,
   "metadata": {},
   "outputs": [],
   "source": [
    "encoded_cols_df = pd.get_dummies(df[[\"REGION\", \"EVENT_TYPE\"]]).astype(int)\n",
    "\n",
    "encoded_cols_df.head()"
   ]
  },
  {
   "cell_type": "code",
   "execution_count": null,
   "metadata": {},
   "outputs": [],
   "source": [
    "preproc_df = pd.merge(df, encoded_cols_df, on=df.index).drop(columns=[\"REGION\", \"EVENT_TYPE\", \"key_0\"])\n",
    "\n",
    "preproc_df.head()"
   ]
  },
  {
   "cell_type": "code",
   "execution_count": null,
   "metadata": {},
   "outputs": [],
   "source": [
    "output_path=#Replace with intended output path\n",
    "preproc_df.to_csv(output_path)"
   ]
  }
 ],
 "metadata": {
  "kernelspec": {
   "display_name": "base",
   "language": "python",
   "name": "python3"
  },
  "language_info": {
   "codemirror_mode": {
    "name": "ipython",
    "version": 3
   },
   "file_extension": ".py",
   "mimetype": "text/x-python",
   "name": "python",
   "nbconvert_exporter": "python",
   "pygments_lexer": "ipython3",
   "version": "3.11.5"
  }
 },
 "nbformat": 4,
 "nbformat_minor": 2
}
